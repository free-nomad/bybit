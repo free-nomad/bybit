{
 "cells": [
  {
   "cell_type": "code",
   "execution_count": 16,
   "metadata": {},
   "outputs": [],
   "source": [
    "from selenium import webdriver\n",
    "\n",
    "from selenium.webdriver.common.keys import Keys\n",
    "\n",
    "from selenium.webdriver.support.ui import WebDriverWait\n",
    "from selenium.webdriver.support import expected_conditions as EC\n",
    "from selenium.webdriver.chrome.options import Options\n",
    "\n",
    "import time\n",
    "\n",
    "import pyautogui\n",
    "\n",
    "import pyperclip\n",
    "\n",
    "import pickle"
   ]
  },
  {
   "cell_type": "code",
   "execution_count": 1,
   "metadata": {},
   "outputs": [],
   "source": [
    "# C:\\Program Files\\Google\\Chrome\\Application\\chrome.exe --remote-debugging-port=9222 --user-data-dir=\"C:/ChromeTEMP\"\n",
    "\n",
    "from selenium import webdriver\n",
    "from selenium.webdriver.chrome.options import Options\n",
    "from selenium.webdriver.common.by import By\n",
    "\n",
    "import time\n",
    "\n",
    "import pyperclip\n",
    "\n",
    "chrome_options = Options()\n",
    "chrome_options.add_experimental_option(\"debuggerAddress\", \"127.0.0.1:9222\")\n",
    "chrome_driver = \"C:\\Program Files\\Google\\Chrome\\Application\\chrome.exe \"\n",
    "driver = webdriver.Chrome(options=chrome_options)\n",
    "\n",
    "driver.get('https://www.bybit.com/trade/usdt/MNTUSDT')\n",
    "time.sleep(1)\n",
    "\n",
    "# 코인 가격\n",
    "coin_price = driver.find_element(By.XPATH, '//*[@id=\"root\"]/main/div[6]/div/div[1]/aside/div/div[1]/div/span').text\n",
    "\n",
    "# 차트 프레임\n",
    "chart_frame = driver.find_element(By.XPATH, '//*[@id=\"root\"]/main/div[6]/div/div[2]/div[1]/div/div[2]/div/div[2]/iframe') \n",
    "driver.switch_to.frame(chart_frame)\n",
    "\n",
    "# 상단 밴드\n",
    "uppper_band = driver.find_element(By.XPATH, '/html/body/div[2]/div[1]/div[2]/div[1]/div[2]/table/tr[1]/td[2]/div/div[2]/div[2]/div[2]/div[3]/div[2]/div/div[2]/div').text\n",
    "# 중간 밴드\n",
    "middle_band = driver.find_element(By.XPATH, '/html/body/div[2]/div[1]/div[2]/div[1]/div[2]/table/tr[1]/td[2]/div/div[2]/div[2]/div[2]/div[3]/div[2]/div/div[1]/div').text\n",
    "# 하단 밴드\n",
    "lower_band = driver.find_element(By.XPATH, '/html/body/div[2]/div[1]/div[2]/div[1]/div[2]/table/tr[1]/td[2]/div/div[2]/div[2]/div[2]/div[3]/div[2]/div/div[3]/div').text\n",
    "# rsi\n",
    "rsi = driver.find_element(By.XPATH, '/html/body/div[2]/div[1]/div[2]/div[1]/div[2]/table/tr[3]/td[2]/div/div[2]/div/div[2]/div[2]/div[2]/div/div[1]/div').text\n",
    "\n",
    "# 메인 프레임\n",
    "driver.switch_to.default_content()\n",
    "\n"
   ]
  },
  {
   "cell_type": "code",
   "execution_count": 5,
   "metadata": {},
   "outputs": [],
   "source": [
    "# qty 100%\n",
    "driver.find_element(By.XPATH, '//*[@id=\"guidance_anchor_order\"]/div/div[2]/div/div/div[2]/div[1]/div[2]/div/div[5]').click()\n",
    "\n",
    "# Buy/Long\n",
    "driver.find_element(By.XPATH, '//*[@id=\"guidance_anchor_order\"]/div/div[2]/div/div/div[2]/div[2]/div/button[1]').click()\n",
    "time.sleep(1)\n",
    "driver.find_element(By.XPATH, '//*[@id=\"modal-root\"]/div/div/div[3]/div/button[1]').click()\n",
    "\n",
    "# Sell/Short\n",
    "driver.find_element(By.XPATH, '//*[@id=\"guidance_anchor_order\"]/div/div[2]/div/div/div[2]/div[2]/div/button[2]').click()\n",
    "time.sleep(1)\n",
    "driver.find_element(By.XPATH, '//*[@id=\"modal-root\"]/div/div/div[3]/div/button[1]').click()\n"
   ]
  },
  {
   "cell_type": "code",
   "execution_count": 10,
   "metadata": {},
   "outputs": [
    {
     "data": {
      "text/plain": [
       "'MNTUSDT\\nIsolated 1.00x'"
      ]
     },
     "execution_count": 10,
     "metadata": {},
     "output_type": "execute_result"
    }
   ],
   "source": [
    "# 포지션 확인\n",
    "driver.find_element(By.XPATH, '//*[@id=\"guidance_anchor_position\"]/div/div[2]/div/div/table/tbody/tr/td[1]/div[1]/div/div/div').text"
   ]
  },
  {
   "cell_type": "code",
   "execution_count": 11,
   "metadata": {},
   "outputs": [],
   "source": [
    "# TP/SL 설정\n",
    "driver.find_element(By.XPATH, '//*[@id=\"guidance_anchor_position\"]/div/div[2]/div/div/table/tbody/tr/td[10]/div[1]/div/button').click()\n",
    "time.sleep(1)\n",
    "\n",
    "# TP\n",
    "driver.find_element(By.XPATH, '//*[@id=\"modal-root\"]/div/div/div[2]/div/div[3]/div[1]/div/div[1]/div[2]/div[1]/div/div/div/span[1]/input').click()\n",
    "driver.find_element(By.XPATH, '//*[@id=\"modal-root\"]/div/div/div[2]/div/div[3]/div[1]/div/div[1]/div[2]/div[1]/div/div/div/span[1]/input').send_keys('0.4')\n",
    "time.sleep(1)\n",
    "\n",
    "# SL\n",
    "driver.find_element(By.XPATH, '//*[@id=\"modal-root\"]/div/div/div[2]/div/div[3]/div[2]/div/div[1]/div[2]/div[1]/div/div/div/span[1]/input').click()\n",
    "driver.find_element(By.XPATH, '//*[@id=\"modal-root\"]/div/div/div[2]/div/div[3]/div[2]/div/div[1]/div[2]/div[1]/div/div/div/span[1]/input').send_keys('0.6')\n",
    "time.sleep(2)\n",
    "\n",
    "# 확인\n",
    "driver.find_element(By.XPATH, '//*[@id=\"modal-root\"]/div/div/div[3]/button[1]').click()\n"
   ]
  },
  {
   "cell_type": "code",
   "execution_count": 33,
   "metadata": {},
   "outputs": [],
   "source": [
    "# 포지션 종료\n",
    "driver.find_element(By.XPATH, '//*[@id=\"guidance_anchor_position\"]/div/div[2]/div/div/table/tbody/tr/td[15]/div[1]/div/button[2]').click()\n",
    "time.sleep(1)\n",
    "driver.find_element(By.XPATH, '//*[@id=\"modal-root\"]/div/div/div[3]/button[1]').click()\n"
   ]
  },
  {
   "cell_type": "code",
   "execution_count": 2,
   "metadata": {},
   "outputs": [
    {
     "data": {
      "text/plain": [
       "'0.50450'"
      ]
     },
     "execution_count": 2,
     "metadata": {},
     "output_type": "execute_result"
    }
   ],
   "source": [
    "# 롱 포지션\n",
    "if (coin_price > middle_band) and (55 >= rsi >= 50.5):\n",
    "    qty -> 100%\n",
    "    매수\n",
    "    tp/sl\n",
    "\n",
    "\n",
    "# 숏 포지션\n",
    "elif (coin_price < middle_band) and (45 <= rsi <= 49.5):\n",
    "    qty -> 100%\n",
    "    매도\n",
    "    tp/sl\n",
    "\n",
    "else:\n",
    "    pass"
   ]
  }
 ],
 "metadata": {
  "kernelspec": {
   "display_name": "Python 3",
   "language": "python",
   "name": "python3"
  },
  "language_info": {
   "codemirror_mode": {
    "name": "ipython",
    "version": 3
   },
   "file_extension": ".py",
   "mimetype": "text/x-python",
   "name": "python",
   "nbconvert_exporter": "python",
   "pygments_lexer": "ipython3",
   "version": "3.10.11"
  }
 },
 "nbformat": 4,
 "nbformat_minor": 2
}
