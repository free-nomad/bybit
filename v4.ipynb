{
 "cells": [
  {
   "cell_type": "code",
   "execution_count": 2,
   "metadata": {},
   "outputs": [],
   "source": [
    "from selenium import webdriver\n",
    "\n",
    "from selenium.webdriver.common.keys import Keys\n",
    "from selenium.webdriver.common.by import By\n",
    "from selenium.webdriver.support.ui import WebDriverWait\n",
    "from selenium.webdriver.support import expected_conditions as EC\n",
    "from selenium.webdriver.chrome.options import Options\n",
    "\n",
    "import time\n",
    "\n",
    "import pyautogui\n",
    "\n",
    "import pyperclip\n",
    "\n",
    "import pickle"
   ]
  },
  {
   "cell_type": "code",
   "execution_count": 22,
   "metadata": {},
   "outputs": [],
   "source": [
    "# C:\\Program Files\\Google\\Chrome\\Application\\chrome.exe --remote-debugging-port=9222 --user-data-dir=\"C:/ChromeTEMP\"\n",
    "\n",
    "from selenium import webdriver\n",
    "from selenium.webdriver.chrome.options import Options\n",
    "\n",
    "import time\n",
    "\n",
    "chrome_options = Options()\n",
    "chrome_options.add_experimental_option(\"debuggerAddress\", \"127.0.0.1:9222\")\n",
    "chrome_driver = \"C:\\Program Files\\Google\\Chrome\\Application\\chrome.exe \"\n",
    "driver = webdriver.Chrome(options=chrome_options)\n",
    "\n",
    "driver.get('https://www.bybit.com/trade/usdt/MNTUSDT')\n",
    "time.sleep(1)\n",
    "\n",
    "# 코인 가격\n",
    "coin_price = driver.find_element(By.XPATH, '//*[@id=\"root\"]/main/div[6]/div/div[1]/aside/div/div[1]/div/span').text\n",
    "\n",
    "# 차트 프레임\n",
    "chart_frame = driver.find_element(By.XPATH, '//*[@id=\"root\"]/main/div[6]/div/div[2]/div[1]/div/div[2]/div/div[2]/iframe') \n",
    "\n",
    "driver.switch_to.frame(chart_frame)\n",
    "\n",
    "# 상단 밴드\n",
    "uppper_band = driver.find_element(By.XPATH, '/html/body/div[2]/div[1]/div[2]/div[1]/div[2]/table/tr[1]/td[2]/div/div[2]/div[2]/div[2]/div[3]/div[2]/div/div[2]/div').text\n",
    "# 중간 밴드\n",
    "middle_band = driver.find_element(By.XPATH, '/html/body/div[2]/div[1]/div[2]/div[1]/div[2]/table/tr[1]/td[2]/div/div[2]/div[2]/div[2]/div[3]/div[2]/div/div[1]/div').text\n",
    "# 하단 밴드\n",
    "lower_band = driver.find_element(By.XPATH, '/html/body/div[2]/div[1]/div[2]/div[1]/div[2]/table/tr[1]/td[2]/div/div[2]/div[2]/div[2]/div[3]/div[2]/div/div[3]/div').text\n",
    "# rsi\n",
    "rsi = driver.find_element(By.XPATH, '/html/body/div[2]/div[1]/div[2]/div[1]/div[2]/table/tr[3]/td[2]/div/div[2]/div/div[2]/div[2]/div[2]/div/div[1]/div').text\n",
    "\n",
    "# 차트 프레임\n",
    "chart_frame = driver.find_element(By.XPATH, '//*[@id=\"root\"]/main/div[6]/div/div[2]/div[1]/div/div[2]/div/div[2]/iframe') \n",
    "\n",
    "driver.switch_to.frame(chart_frame)\n"
   ]
  },
  {
   "cell_type": "code",
   "execution_count": 27,
   "metadata": {},
   "outputs": [
    {
     "name": "stdout",
     "output_type": "stream",
     "text": [
      "0.50577 0.50443 0.50309 48.61\n"
     ]
    }
   ],
   "source": [
    "\n",
    "print(uppper_band, middle_band , lower_band, rsi)"
   ]
  },
  {
   "cell_type": "code",
   "execution_count": 24,
   "metadata": {},
   "outputs": [
    {
     "data": {
      "text/plain": [
       "'0.50456'"
      ]
     },
     "execution_count": 24,
     "metadata": {},
     "output_type": "execute_result"
    }
   ],
   "source": [
    "coin_price"
   ]
  },
  {
   "cell_type": "code",
   "execution_count": null,
   "metadata": {},
   "outputs": [],
   "source": []
  }
 ],
 "metadata": {
  "kernelspec": {
   "display_name": "Python 3",
   "language": "python",
   "name": "python3"
  },
  "language_info": {
   "codemirror_mode": {
    "name": "ipython",
    "version": 3
   },
   "file_extension": ".py",
   "mimetype": "text/x-python",
   "name": "python",
   "nbconvert_exporter": "python",
   "pygments_lexer": "ipython3",
   "version": "3.10.11"
  }
 },
 "nbformat": 4,
 "nbformat_minor": 2
}
