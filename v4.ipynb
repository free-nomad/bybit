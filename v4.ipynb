{
 "cells": [
  {
   "cell_type": "code",
   "execution_count": 26,
   "metadata": {},
   "outputs": [],
   "source": [
    "from selenium import webdriver\n",
    "\n",
    "from selenium.webdriver.common.keys import Keys\n",
    "from selenium.webdriver.common.by import By\n",
    "\n",
    "import time\n",
    "\n",
    "import pyautogui"
   ]
  },
  {
   "cell_type": "code",
   "execution_count": 25,
   "metadata": {},
   "outputs": [
    {
     "ename": "NameError",
     "evalue": "name 'By' is not defined",
     "output_type": "error",
     "traceback": [
      "\u001b[1;31m---------------------------------------------------------------------------\u001b[0m",
      "\u001b[1;31mNameError\u001b[0m                                 Traceback (most recent call last)",
      "\u001b[1;32mc:\\Users\\lee\\Desktop\\github\\bybit\\v4.ipynb Cell 2\u001b[0m line \u001b[0;36m2\n\u001b[0;32m     <a href='vscode-notebook-cell:/c%3A/Users/lee/Desktop/github/bybit/v4.ipynb#W6sZmlsZQ%3D%3D?line=21'>22</a>\u001b[0m \u001b[39m# 코인 가격\u001b[39;00m\n\u001b[0;32m     <a href='vscode-notebook-cell:/c%3A/Users/lee/Desktop/github/bybit/v4.ipynb#W6sZmlsZQ%3D%3D?line=22'>23</a>\u001b[0m time\u001b[39m.\u001b[39msleep(\u001b[39m10\u001b[39m)\n\u001b[1;32m---> <a href='vscode-notebook-cell:/c%3A/Users/lee/Desktop/github/bybit/v4.ipynb#W6sZmlsZQ%3D%3D?line=23'>24</a>\u001b[0m coin_price \u001b[39m=\u001b[39m driver\u001b[39m.\u001b[39mfind_element(By\u001b[39m.\u001b[39mXPATH, \u001b[39m'\u001b[39m\u001b[39m//*[@id=\u001b[39m\u001b[39m\"\u001b[39m\u001b[39monetrust-accept-btn-handler\u001b[39m\u001b[39m\"\u001b[39m\u001b[39m]\u001b[39m\u001b[39m'\u001b[39m)\n\u001b[0;32m     <a href='vscode-notebook-cell:/c%3A/Users/lee/Desktop/github/bybit/v4.ipynb#W6sZmlsZQ%3D%3D?line=24'>25</a>\u001b[0m \u001b[39mprint\u001b[39m(coin_price)\n",
      "\u001b[1;31mNameError\u001b[0m: name 'By' is not defined"
     ]
    }
   ],
   "source": [
    "# 크롬드라이버 실행\n",
    "driver = webdriver.Edge()\n",
    "\n",
    "#크롬 드라이버에 url 주소 넣고 실행\n",
    "driver.get('https://www.bybit.com/trade/usdt/BTCUSDT') # 변수화하기\n",
    "\n",
    "# 페이지가 완전히 로딩되도록 3초동안 기다림\n",
    "time.sleep(3)\n",
    "\n",
    "driver.maximize_window()\n",
    "\n",
    "# 로그인\n",
    "pyautogui.moveTo(1585, 135)\n",
    "time.sleep(2)\n",
    "pyautogui.click()\n",
    "\n",
    "# QR Code\n",
    "time.sleep(2)\n",
    "pyautogui.moveTo(655, 306)\n",
    "pyautogui.click()\n",
    "\n",
    "# 코인 가격\n",
    "time.sleep(10)\n",
    "coin_price = driver.find_element(By.XPATH, '//*[@id=\"root\"]/main/div[2]/div/div[1]/aside/div/div[1]/div/span')\n",
    "print(coin_price.text)"
   ]
  },
  {
   "cell_type": "code",
   "execution_count": 22,
   "metadata": {},
   "outputs": [
    {
     "name": "stdout",
     "output_type": "stream",
     "text": [
      "현재 마우스 위치: Point(x=655, y=306)\n"
     ]
    }
   ],
   "source": [
    "# 현재 마우스 위치 얻기\n",
    "current_mouse_position = pyautogui.position()\n",
    "\n",
    "# 마우스 위치 출력\n",
    "print(\"현재 마우스 위치:\", current_mouse_position)\n",
    "\n"
   ]
  },
  {
   "cell_type": "code",
   "execution_count": null,
   "metadata": {},
   "outputs": [],
   "source": []
  }
 ],
 "metadata": {
  "kernelspec": {
   "display_name": "Python 3",
   "language": "python",
   "name": "python3"
  },
  "language_info": {
   "codemirror_mode": {
    "name": "ipython",
    "version": 3
   },
   "file_extension": ".py",
   "mimetype": "text/x-python",
   "name": "python",
   "nbconvert_exporter": "python",
   "pygments_lexer": "ipython3",
   "version": "3.10.11"
  }
 },
 "nbformat": 4,
 "nbformat_minor": 2
}
