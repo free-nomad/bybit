{
 "cells": [
  {
   "cell_type": "code",
   "execution_count": 2,
   "metadata": {},
   "outputs": [],
   "source": [
    "from selenium import webdriver\n",
    "\n",
    "from selenium.webdriver.common.keys import Keys\n",
    "from selenium.webdriver.common.by import By\n",
    "from selenium.webdriver.support.ui import WebDriverWait\n",
    "from selenium.webdriver.support import expected_conditions as EC\n",
    "from selenium.webdriver.chrome.options import Options\n",
    "\n",
    "import time\n",
    "\n",
    "import pyautogui\n",
    "\n",
    "import pyperclip\n",
    "\n",
    "import pickle"
   ]
  },
  {
   "cell_type": "code",
   "execution_count": 27,
   "metadata": {},
   "outputs": [
    {
     "name": "stdout",
     "output_type": "stream",
     "text": [
      "현재 마우스 위치: Point(x=61, y=329)\n"
     ]
    }
   ],
   "source": [
    "# 현재 마우스 위치 얻기\n",
    "current_mouse_position = pyautogui.position()\n",
    "\n",
    "# 마우스 위치 출력\n",
    "print(\"현재 마우스 위치:\", current_mouse_position)\n"
   ]
  },
  {
   "cell_type": "code",
   "execution_count": 90,
   "metadata": {},
   "outputs": [],
   "source": [
    "# C:\\Program Files\\Google\\Chrome\\Application\\chrome.exe --remote-debugging-port=9222 --user-data-dir=\"C:/ChromeTEMP\"\n",
    "\n",
    "from selenium import webdriver\n",
    "from selenium.webdriver.chrome.options import Options\n",
    "\n",
    "chrome_options = Options()\n",
    "chrome_options.add_experimental_option(\"debuggerAddress\", \"127.0.0.1:9222\")\n",
    "chrome_driver = \"C:\\Program Files\\Google\\Chrome\\Application\\chrome.exe \"\n",
    "driver = webdriver.Chrome(options=chrome_options)\n",
    "\n",
    "driver.get('https://www.bybit.com/trade/usdt/BTCUSDT')\n",
    "time.sleep(5)\n",
    "# iFrame으로 전환\n",
    "iframe = driver.find_element(By.XPATH, '//*[@id=\"root\"]/main/div[6]/div/div[2]/div[1]/div/div[2]/div/div[2]/iframe')  # 이 부분은 실제 iFrame XPath로 수정해야 합니다.\n",
    "\n",
    "driver.switch_to.frame(iframe)\n",
    "\n",
    "# 이제 iFrame 내에서 원하는 요소를 찾을 수 있습니다.\n",
    "element = driver.find_element(By.XPATH, '/html/body/div[2]/div[1]/div[2]/div[1]/div[2]/table/tr[1]/td[2]/div/div[2]/div[2]/div[2]/div[3]/div[2]/div/div[1]/div')\n"
   ]
  },
  {
   "cell_type": "code",
   "execution_count": null,
   "metadata": {},
   "outputs": [],
   "source": [
    "<iframe id=\"tradingview_e0f88\" \n",
    "name=\"tradingview_e0f88\" \n",
    "src=\"blob:https://www.bybit.com/b3d3d2fc-6fac-4447-9c82-1b83005edc7e\" \n",
    "data-widget-options=\"symbol=BTCUSDT&amp;interval=1&amp;widgetbar=%7B%22details%22%3Afalse%2C%22watchlist%22%3Afalse%2C%22news%22%3Afalse%2C%22datawindow%22%3Afalse%2C%22watchlist_settings%22%3A%7B%22default_symbols%22%3A%5B%5D%7D%7D&amp;timeFrames=%5B%5D&amp;locale=en&amp;uid=tradingview_e0f88&amp;clientId=0&amp;userId=0&amp;chartsStorageVer=1.0&amp;customCSS=.%2Fcustom.css%3Fv%3D0.2.0&amp;autoSaveDelay=0.4&amp;debug=false&amp;timezone=UTC&amp;theme=dark&amp;time_scale=%7B%22min_bar_spacing%22%3A0.8%7D\" \n",
    "title=\"Financial Chart\" \n",
    "frameborder=\"0\" \n",
    "allowtransparency=\"true\" \n",
    "scrolling=\"no\" \n",
    "allowfullscreen=\"\" \n",
    "style=\"display: block; width: 100%; height: 100%;\">\n",
    "\t</iframe>"
   ]
  },
  {
   "cell_type": "code",
   "execution_count": 83,
   "metadata": {},
   "outputs": [],
   "source": [
    "for i in iframe:\n",
    "    print(i.text)"
   ]
  },
  {
   "cell_type": "code",
   "execution_count": 91,
   "metadata": {},
   "outputs": [
    {
     "data": {
      "text/plain": [
       "'37309.47'"
      ]
     },
     "execution_count": 91,
     "metadata": {},
     "output_type": "execute_result"
    }
   ],
   "source": [
    "element.text"
   ]
  },
  {
   "cell_type": "code",
   "execution_count": null,
   "metadata": {},
   "outputs": [],
   "source": []
  }
 ],
 "metadata": {
  "kernelspec": {
   "display_name": "Python 3",
   "language": "python",
   "name": "python3"
  },
  "language_info": {
   "codemirror_mode": {
    "name": "ipython",
    "version": 3
   },
   "file_extension": ".py",
   "mimetype": "text/x-python",
   "name": "python",
   "nbconvert_exporter": "python",
   "pygments_lexer": "ipython3",
   "version": "3.10.11"
  }
 },
 "nbformat": 4,
 "nbformat_minor": 2
}
