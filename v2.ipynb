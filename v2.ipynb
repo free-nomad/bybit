{
 "cells": [
  {
   "cell_type": "markdown",
   "metadata": {},
   "source": [
    "# IMPORT"
   ]
  },
  {
   "cell_type": "code",
   "execution_count": null,
   "metadata": {},
   "outputs": [],
   "source": [
    "from pybit.unified_trading import HTTP\n",
    "from datetime import datetime"
   ]
  },
  {
   "cell_type": "markdown",
   "metadata": {},
   "source": [
    "# API KEY"
   ]
  },
  {
   "cell_type": "code",
   "execution_count": 1,
   "metadata": {},
   "outputs": [],
   "source": [
    "# 파일을 읽기 모드로 열기\n",
    "with open(\"C:\\\\Users\\\\lee\\\\Desktop\\\\bybit\\\\api.txt\", \"r\") as file:\n",
    "    api_list = []\n",
    "    # 파일의 각 줄에 대해 반복\n",
    "    for line in file:\n",
    "        # 각 줄 출력\n",
    "        api_list.append(line.strip())  # strip()은 줄 바꿈 문자(\\n) 등을 제거하여 출력합니다.\n",
    "\n",
    "key = api_list[0]\n",
    "secret = api_list[1]"
   ]
  },
  {
   "cell_type": "markdown",
   "metadata": {},
   "source": [
    "# 트레이딩 정보 가져오기 / 교차, 격리, 레버리지 배율 수정"
   ]
  },
  {
   "cell_type": "code",
   "execution_count": 2,
   "metadata": {},
   "outputs": [
    {
     "name": "stdout",
     "output_type": "stream",
     "text": [
      "모드 : 격리\n"
     ]
    }
   ],
   "source": [
    "# api 적용 세션\n",
    "session = HTTP(\n",
    "    # testnet=True,\n",
    "    api_key=key,\n",
    "    api_secret=secret,\n",
    ")\n",
    "\n",
    "# 트레이딩 정보 가져오기\n",
    "trading_info = session.get_positions(\n",
    "    category=\"linear\",\n",
    "    symbol=\"MNTUSDT\",\n",
    ")\n",
    "\n",
    "cross_isolated = trading_info['result']['list'][0]['tradeMode']\n",
    "\n",
    "if cross_isolated == 1:\n",
    "    print('모드 : 격리')\n",
    "else:\n",
    "    # 교차, 격리 / 레버리지 배율 수정\n",
    "    session.switch_margin_mode(\n",
    "    category=\"linear\",\n",
    "    symbol=\"MNTUSDT\",\n",
    "    tradeMode=1, # 0: cross margin. 1: isolated margin\n",
    "    buyLeverage=\"1\",\n",
    "    sellLeverage=\"1\",\n",
    "    )\n",
    "    print('모드 : 격리로 변경')\n",
    "\n"
   ]
  },
  {
   "cell_type": "markdown",
   "metadata": {},
   "source": [
    "# 캔들 마크 가격"
   ]
  },
  {
   "cell_type": "code",
   "execution_count": null,
   "metadata": {},
   "outputs": [],
   "source": [
    "# 함수화"
   ]
  },
  {
   "cell_type": "markdown",
   "metadata": {},
   "source": [
    "# 기술적 지표"
   ]
  },
  {
   "cell_type": "code",
   "execution_count": null,
   "metadata": {},
   "outputs": [],
   "source": [
    "# 함수화"
   ]
  },
  {
   "cell_type": "markdown",
   "metadata": {},
   "source": [
    "# 주문"
   ]
  },
  {
   "cell_type": "code",
   "execution_count": 3,
   "metadata": {},
   "outputs": [
    {
     "name": "stdout",
     "output_type": "stream",
     "text": [
      "주문 시간 :  2023-11-22 13:44:18.766000\n"
     ]
    }
   ],
   "source": [
    "# 사용 가능한 usdt 값\n",
    "for_usdt = session.get_wallet_balance(\n",
    "    accountType=\"CONTRACT\",\n",
    "    coin=\"USDT\",\n",
    ")\n",
    "\n",
    "available_usdt = for_usdt['result']['list'][0]['coin'][0]['availableToWithdraw']\n",
    "available_usdt = float(available_usdt)\n",
    "\n",
    "### 수정 필요#### 현재 종가만 받아서 수식에 넣으면 된다.\n",
    "# qty 변수 값 \n",
    "# available_usdt = available_usdt / 현재 종가\n",
    "# available_usdt = int(available_usdt) \n",
    "\n",
    "# # TP / SL 변수 값\n",
    "# tp_price = 현재 종가 + (현재 종가 * 0.01)\n",
    "\n",
    "# sl_price = 현재 종가 + (현재 종가 * 0.005)\n",
    "### 수정 필요####\n",
    "\n",
    "\n",
    "order_time = session.place_order(\n",
    "    category=\"linear\",\n",
    "    symbol=\"MNTUSDT\",\n",
    "    side=\"Buy\", \n",
    "    orderType=\"Market\",\n",
    "    qty=\"1\", # 변수화 -> available_usdt\n",
    "    timeInForce=\"IOC\", \n",
    "    isLeverage=1,\n",
    "    orderFilter=\"Order\",\n",
    "    \n",
    "    # TP / SL\n",
    "    takeProfit = 0.5, # 변수화 -> tp_price\n",
    "    stopLoss = 0.42, # 변수화 -> sl_price\n",
    ")\n",
    "\n",
    "print('주문 시간 : ', datetime.utcfromtimestamp(order_time['time']/1000))"
   ]
  }
 ],
 "metadata": {
  "kernelspec": {
   "display_name": "Python 3",
   "language": "python",
   "name": "python3"
  },
  "language_info": {
   "codemirror_mode": {
    "name": "ipython",
    "version": 3
   },
   "file_extension": ".py",
   "mimetype": "text/x-python",
   "name": "python",
   "nbconvert_exporter": "python",
   "pygments_lexer": "ipython3",
   "version": "3.10.11"
  }
 },
 "nbformat": 4,
 "nbformat_minor": 2
}
