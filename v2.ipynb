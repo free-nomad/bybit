{
 "cells": [
  {
   "cell_type": "markdown",
   "metadata": {},
   "source": [
    "# API KEY"
   ]
  },
  {
   "cell_type": "code",
   "execution_count": 1,
   "metadata": {},
   "outputs": [],
   "source": [
    "# 파일을 읽기 모드로 열기\n",
    "with open(\"C:\\\\Users\\\\lee\\\\Desktop\\\\bybit\\\\api.txt\", \"r\") as file:\n",
    "    api_list = []\n",
    "    # 파일의 각 줄에 대해 반복\n",
    "    for line in file:\n",
    "        # 각 줄 출력\n",
    "        api_list.append(line.strip())  # strip()은 줄 바꿈 문자(\\n) 등을 제거하여 출력합니다."
   ]
  },
  {
   "cell_type": "markdown",
   "metadata": {},
   "source": [
    "# 트레이딩 정보 가져오기 / 교차, 격리, 레버리지 배율 수정"
   ]
  },
  {
   "cell_type": "code",
   "execution_count": 20,
   "metadata": {},
   "outputs": [
    {
     "name": "stdout",
     "output_type": "stream",
     "text": [
      "모드 : 격리\n"
     ]
    }
   ],
   "source": [
    "from pybit.unified_trading import HTTP\n",
    "\n",
    "key = api_list[0]\n",
    "secret = api_list[1]\n",
    "\n",
    "session = HTTP(\n",
    "    # testnet=True,\n",
    "    api_key=key,\n",
    "    api_secret=secret,\n",
    ")\n",
    "\n",
    "# 트레이딩 정보 가져오기\n",
    "trading_info = session.get_positions(\n",
    "    category=\"linear\",\n",
    "    symbol=\"MNTUSDT\",\n",
    ")\n",
    "\n",
    "cross_isolated = trading_info['result']['list'][0]['tradeMode']\n",
    "\n",
    "if cross_isolated == 1:\n",
    "    print('모드 : 격리')\n",
    "else:\n",
    "    # 교차, 격리 / 레버리지 배율 수정\n",
    "    session.switch_margin_mode(\n",
    "    category=\"linear\",\n",
    "    symbol=\"MNTUSDT\",\n",
    "    tradeMode=1, # 0: cross margin. 1: isolated margin\n",
    "    buyLeverage=\"5\",\n",
    "    sellLeverage=\"5\",\n",
    "    )\n",
    "    print('모드 : 격리로 변경')"
   ]
  },
  {
   "cell_type": "code",
   "execution_count": 8,
   "metadata": {},
   "outputs": [
    {
     "name": "stdout",
     "output_type": "stream",
     "text": [
      "{'retCode': 0, 'retMsg': 'OK', 'result': {'orderId': '918aeda5-c64b-4b68-9102-4c38df0d10bf', 'orderLinkId': ''}, 'retExtInfo': {}, 'time': 1700655605457}\n"
     ]
    }
   ],
   "source": [
    "# 주문 조건\n",
    "print(session.place_order(\n",
    "    category=\"linear\",\n",
    "    symbol=\"MNTUSDT\",\n",
    "    side=\"Buy\", \n",
    "    orderType=\"Market\",\n",
    "    qty=\"1\",\n",
    "    timeInForce=\"IOC\", \n",
    "    isLeverage=1,\n",
    "    orderFilter=\"Order\",\n",
    "    \n",
    "    # TP / SL\n",
    "    takeProfit = 0.5, # 변수화\n",
    "    stopLoss = 0.42, # 변수화\n",
    "))"
   ]
  },
  {
   "cell_type": "code",
   "execution_count": null,
   "metadata": {},
   "outputs": [],
   "source": []
  }
 ],
 "metadata": {
  "kernelspec": {
   "display_name": "Python 3",
   "language": "python",
   "name": "python3"
  },
  "language_info": {
   "codemirror_mode": {
    "name": "ipython",
    "version": 3
   },
   "file_extension": ".py",
   "mimetype": "text/x-python",
   "name": "python",
   "nbconvert_exporter": "python",
   "pygments_lexer": "ipython3",
   "version": "3.10.11"
  }
 },
 "nbformat": 4,
 "nbformat_minor": 2
}
