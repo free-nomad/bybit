{
 "cells": [
  {
   "cell_type": "markdown",
   "metadata": {},
   "source": [
    "# IMPORT"
   ]
  },
  {
   "cell_type": "code",
   "execution_count": 1,
   "metadata": {},
   "outputs": [],
   "source": [
    "from pybit.unified_trading import HTTP\n",
    "from datetime import datetime\n",
    "import math\n",
    "import talib\n",
    "import numpy as np\n",
    "import pymysql\n",
    "import cryptography"
   ]
  },
  {
   "cell_type": "markdown",
   "metadata": {},
   "source": [
    "# API KEY"
   ]
  },
  {
   "cell_type": "code",
   "execution_count": 2,
   "metadata": {},
   "outputs": [],
   "source": [
    "# api key\n",
    "with open(\"C:\\\\Users\\\\lee\\\\Desktop\\\\bybit\\\\api.txt\", \"r\") as file:\n",
    "    api_list = []\n",
    "    # 파일의 각 줄에 대해 반복\n",
    "    for line in file:\n",
    "        # 각 줄 출력\n",
    "        api_list.append(line.strip())  # strip()은 줄 바꿈 문자(\\n) 등을 제거하여 출력합니다.\n",
    "\n",
    "# sql pw\n",
    "with open(\"C:\\\\Users\\\\lee\\\\Desktop\\\\bybit\\\\pw.txt\", \"r\") as file:\n",
    "        db_password = file.readline()\n",
    "\n",
    "key = api_list[0]\n",
    "secret = api_list[1]"
   ]
  },
  {
   "cell_type": "markdown",
   "metadata": {},
   "source": [
    "# 트레이딩 정보 가져오기 / 교차, 격리, 레버리지 배율 수정"
   ]
  },
  {
   "cell_type": "code",
   "execution_count": 3,
   "metadata": {},
   "outputs": [],
   "source": [
    "def trading_info(key, secret, coin_symbol):\n",
    "\n",
    "    # api 적용 세션\n",
    "    session = HTTP(\n",
    "        # testnet=True,\n",
    "        api_key=key,\n",
    "        api_secret=secret,\n",
    "    )\n",
    "\n",
    "    # 트레이딩 정보 가져오기\n",
    "    trade_mode = session.get_positions(\n",
    "        category=\"linear\",\n",
    "        symbol=coin_symbol,\n",
    "    )\n",
    "\n",
    "    cross_isolated = trade_mode['result']['list'][0]['tradeMode']\n",
    "\n",
    "    if cross_isolated == 1:\n",
    "        return print('모드 : 격리')\n",
    "    else:\n",
    "        # 교차, 격리 / 레버리지 배율 수정\n",
    "        session.switch_margin_mode(\n",
    "        category=\"linear\",\n",
    "        symbol=\"MNTUSDT\",\n",
    "        tradeMode=1, # 0: cross margin. 1: isolated margin\n",
    "        buyLeverage=\"1\",\n",
    "        sellLeverage=\"1\",\n",
    "        )\n",
    "        return print('모드 : 격리로 변경')\n",
    "\n"
   ]
  },
  {
   "cell_type": "markdown",
   "metadata": {},
   "source": [
    "# 기술적 지표"
   ]
  },
  {
   "cell_type": "code",
   "execution_count": 4,
   "metadata": {},
   "outputs": [],
   "source": [
    "def ema_indicator(closePrice_reverse, period):\n",
    "    # EMA\n",
    "    price_data = np.array(closePrice_reverse) # 파라미터\n",
    "\n",
    "    ema_period = period # 파라미터\n",
    "    ema_values = talib.EMA(price_data, timeperiod=ema_period)\n",
    "\n",
    "    return ema_values[-1]"
   ]
  },
  {
   "cell_type": "code",
   "execution_count": 5,
   "metadata": {},
   "outputs": [],
   "source": [
    "def rsi_indicator(closePrice_reverse, period):\n",
    "    # RSI\n",
    "    price_data = np.array(closePrice_reverse) # 파라미터\n",
    "\n",
    "    rsi_period = period # 파라미터\n",
    "    rsi_values = talib.RSI(price_data, timeperiod=rsi_period)\n",
    "\n",
    "    return rsi_values[-1]"
   ]
  },
  {
   "cell_type": "code",
   "execution_count": 6,
   "metadata": {},
   "outputs": [],
   "source": [
    "def adx_indicator(highPrice_reverse, lowPrice_reverse, closePrice_reverse, period):\n",
    "    # ADX\n",
    "    high_data = np.array(highPrice_reverse) # 파라미터\n",
    "    low_data = np.array(lowPrice_reverse) # 파라미터\n",
    "    close_data = np.array(closePrice_reverse) # 파라미터\n",
    "\n",
    "    adx_period = period # 파라미터\n",
    "    adx_values = talib.ADX(high_data, low_data, close_data, timeperiod=adx_period)\n",
    "\n",
    "    return adx_values[-1]"
   ]
  },
  {
   "cell_type": "markdown",
   "metadata": {},
   "source": [
    "# 캔들 마크 가격"
   ]
  },
  {
   "cell_type": "code",
   "execution_count": 7,
   "metadata": {},
   "outputs": [],
   "source": [
    "def candle_mark_price(coin_symbol):\n",
    "\n",
    "    # 현재 시각 구하기\n",
    "    now = datetime.now()\n",
    "    now_timestamp = math.floor(now.timestamp()*1000)\n",
    "\n",
    "    # get_kline / get_mark_price_kline\n",
    "    session = HTTP(testnet=True)\n",
    "    price = session.get_mark_price_kline(\n",
    "        category=\"linear\",\n",
    "        symbol=coin_symbol,\n",
    "        interval=1,\n",
    "        start=now_timestamp-60000000,\n",
    "        end=now_timestamp,\n",
    "        limit=1000,\n",
    "    )\n",
    "\n",
    "    # price['result']['list'][:1001]\n",
    "\n",
    "    a_hundred_prices = price['result']['list']\n",
    "    highPrice = []\n",
    "    lowPrice = []\n",
    "    closePrice = []\n",
    "    for i in range(len(a_hundred_prices)):\n",
    "        highPrice.append(float(a_hundred_prices[i][2]))\n",
    "        lowPrice.append(float(a_hundred_prices[i][3]))\n",
    "        closePrice.append(float(a_hundred_prices[i][4]))\n",
    "\n",
    "    # 가장 최신 가격을 앞에서 뒤로 변경하기 위한 코드\n",
    "    highPrice_reverse = highPrice[::-1]\n",
    "    lowPrice_reverse = lowPrice[::-1]\n",
    "    closePrice_reverse = closePrice[::-1]\n",
    "\n",
    "    return highPrice_reverse, lowPrice_reverse, closePrice_reverse\n"
   ]
  },
  {
   "cell_type": "markdown",
   "metadata": {},
   "source": [
    "# QTY, TP/SL"
   ]
  },
  {
   "cell_type": "code",
   "execution_count": 8,
   "metadata": {},
   "outputs": [],
   "source": [
    "def find_first_digit_after_decimal(str_number):\n",
    "    # 소수점 이하의 숫자 추출\n",
    "    decimal_part = str(str_number).split('.')[1]\n",
    "    \n",
    "    # 1의 자리 숫자 찾기\n",
    "    for i in range(len(decimal_part)):\n",
    "        if decimal_part[i] == '1':\n",
    "            return i + 1  # 1의 자리이므로 인덱스 + 1 반환\n",
    "    \n",
    "    return None  # 1의 자리 숫자가 없는 경우"
   ]
  },
  {
   "cell_type": "code",
   "execution_count": 9,
   "metadata": {},
   "outputs": [],
   "source": [
    "def qty_calculator(key, secret, coin_symbol, now_close_price, position_side):\n",
    "    session = HTTP(\n",
    "        # testnet=True,\n",
    "        api_key=key,\n",
    "        api_secret=secret,\n",
    "    )\n",
    "    # 사용 가능한 usdt 값\n",
    "    for_usdt = session.get_wallet_balance(\n",
    "        accountType=\"CONTRACT\",\n",
    "        coin='USDT',\n",
    "    )\n",
    "\n",
    "    available_usdt = for_usdt['result']['list'][0]['coin'][0]['availableToWithdraw']\n",
    "    available_usdt = float(available_usdt)\n",
    "\n",
    "    # 최소 주문 금액에 따른 소수점 버리기 및 정수화\n",
    "    session = HTTP(testnet=True)\n",
    "    instruments_info = session.get_instruments_info(\n",
    "        category=\"linear\",\n",
    "        symbol=coin_symbol,\n",
    "    )\n",
    "\n",
    "    minOrderQty = instruments_info['result']['list'][0]['lotSizeFilter']['minOrderQty']\n",
    "    minOrderQty = float(minOrderQty)\n",
    "\n",
    "    if minOrderQty == 0.001:\n",
    "        result_qty = available_usdt / now_close_price\n",
    "        result_qty = \"{:.3f}\".format(result_qty)\n",
    "\n",
    "    elif minOrderQty == 0.01:\n",
    "        result_qty = available_usdt / now_close_price\n",
    "        result_qty = \"{:.2f}\".format(result_qty)\n",
    "\n",
    "    elif minOrderQty == 0.1:\n",
    "        result_qty = available_usdt / now_close_price\n",
    "        result_qty = \"{:.1f}\".format(result_qty)\n",
    "\n",
    "    else:\n",
    "        result_qty = available_usdt / now_close_price\n",
    "        result_qty = int(result_qty)\n",
    "        result_qty = str(result_qty)\n",
    "\n",
    "    # 최소 주문 금액\n",
    "    minPrice = instruments_info['result']['list'][0]['priceFilter']['minPrice']\n",
    "\n",
    "    # 1의 자리수 \n",
    "    one_seat = find_first_digit_after_decimal(minPrice)\n",
    "\n",
    "    # TP / SL 변수 값\n",
    "    if position_side == \"Buy\":\n",
    "        tp_price = now_close_price + (now_close_price * 0.01)\n",
    "        tp_price = str(tp_price)\n",
    "        tp_price = tp_price[:one_seat+2]\n",
    "        tp_price = float(tp_price)\n",
    "\n",
    "        sl_price = now_close_price - (now_close_price * 0.005)\n",
    "        sl_price = str(sl_price)\n",
    "        sl_price = sl_price[:one_seat+2]\n",
    "        sl_price = float(sl_price)\n",
    "\n",
    "    else:\n",
    "        tp_price = now_close_price - (now_close_price * 0.01)\n",
    "        tp_price = str(tp_price)\n",
    "        tp_price = tp_price[:one_seat+2]\n",
    "        tp_price = float(tp_price)\n",
    "\n",
    "        sl_price = now_close_price + (now_close_price * 0.005)\n",
    "        sl_price = str(sl_price)\n",
    "        sl_price = sl_price[:one_seat+2]\n",
    "        sl_price = float(sl_price)\n",
    "        \n",
    "\n",
    "    return available_usdt, result_qty, tp_price, sl_price"
   ]
  },
  {
   "cell_type": "markdown",
   "metadata": {},
   "source": [
    "# 롱 / 숏 판별"
   ]
  },
  {
   "cell_type": "code",
   "execution_count": 10,
   "metadata": {},
   "outputs": [],
   "source": [
    "def positon_info(key, secret, coin_symbol):\n",
    "    session = HTTP(\n",
    "        # testnet=True,\n",
    "        api_key=key,\n",
    "        api_secret=secret,\n",
    "    )\n",
    "    side_check = session.get_positions(\n",
    "        category=\"linear\",\n",
    "        symbol=coin_symbol,\n",
    "    )\n",
    "\n",
    "    return side_check['result']['list'][0]['side']"
   ]
  },
  {
   "cell_type": "markdown",
   "metadata": {},
   "source": [
    "# 주문"
   ]
  },
  {
   "cell_type": "code",
   "execution_count": 11,
   "metadata": {},
   "outputs": [],
   "source": [
    "def order_execution(key, secret, coin_symbol, order_side, result_qty, tp_price, sl_price):\n",
    "\n",
    "    session = HTTP(\n",
    "        testnet=True,\n",
    "        api_key=key,\n",
    "        api_secret=secret,\n",
    "    )\n",
    "\n",
    "    order_session = session.place_order(\n",
    "        category=\"linear\",\n",
    "        symbol=coin_symbol,\n",
    "        side=order_side, \n",
    "        orderType=\"Market\",\n",
    "        qty=result_qty, \n",
    "        timeInForce=\"IOC\", \n",
    "        isLeverage=1,\n",
    "        orderFilter=\"Order\",\n",
    "        \n",
    "        # TP / SL\n",
    "        takeProfit = tp_price,\n",
    "        stopLoss = sl_price,\n",
    "    )\n",
    "\n",
    "    oder_time = datetime.utcfromtimestamp(order_session['time']/1000)\n",
    "\n",
    "    return oder_time"
   ]
  },
  {
   "cell_type": "markdown",
   "metadata": {},
   "source": [
    "# MySQL"
   ]
  },
  {
   "cell_type": "code",
   "execution_count": 13,
   "metadata": {},
   "outputs": [],
   "source": [
    "def order_db_record(db_password, coin_symbol, order_time, now_close_price, available_usdt, result_qty, tp_price, sl_price, ema_number, rsi_7_number, rsi_14_number, rsi_21_number, adx_number):\n",
    "\n",
    "    conn = pymysql.connect(host='127.0.0.1', user='root', password=db_password, db='bybit', charset='utf8') \n",
    "\n",
    "    # 커서 생성\n",
    "    cursor = conn.cursor()\n",
    "\n",
    "    # 테이블 생성 쿼리\n",
    "    create_table_query = \"\"\"\n",
    "    CREATE TABLE IF NOT EXISTS orders (\n",
    "        id INT AUTO_INCREMENT PRIMARY KEY,\n",
    "        coin_symbol VARCHAR(10),\n",
    "        order_time VARCHAR(20),\n",
    "        now_close_price FLOAT,\n",
    "        available_usdt FLOAT,\n",
    "        result_qty FLOAT,\n",
    "        tp_price FLOAT,\n",
    "        sl_price FLOAT,\n",
    "        ema_number FLOAT,\n",
    "        rsi_7_number FLOAT,\n",
    "        rsi_14_number FLOAT,\n",
    "        rsi_21_number FLOAT,\n",
    "        adx_number FLOAT\n",
    "    )\n",
    "    \"\"\"\n",
    "    cursor.execute(create_table_query)\n",
    "\n",
    "    # 주문 정보 삽입 쿼리\n",
    "    insert_query = \"\"\"\n",
    "    INSERT INTO orders (coin_symbol, order_time, now_close_price, available_usdt, result_qty, tp_price, sl_price, ema_number, rsi_7_number, rsi_14_number, rsi_21_number, adx_number)\n",
    "    VALUES (%s, %s, %s, %s, %s, %s, %s, %s, %s, %s, %s, %s)\n",
    "    \"\"\"\n",
    "\n",
    "    ### 수정 필요 ###\n",
    "    # 주문 정보\n",
    "    order_data = (coin_symbol, order_time, now_close_price, available_usdt, result_qty, tp_price, sl_price, ema_number, rsi_7_number, rsi_14_number, rsi_21_number, adx_number)\n",
    "    ### 수정 필요 ###\n",
    "\n",
    "    # 쿼리 실행\n",
    "    cursor.execute(insert_query, order_data)\n",
    "\n",
    "    # 변경사항 저장\n",
    "    conn.commit()\n",
    "\n",
    "    # 연결 종료\n",
    "    cursor.close()\n",
    "    conn.close()\n",
    "\n",
    "\n"
   ]
  },
  {
   "cell_type": "markdown",
   "metadata": {},
   "source": [
    "# TEST - 트레이딩"
   ]
  },
  {
   "cell_type": "code",
   "execution_count": 14,
   "metadata": {},
   "outputs": [
    {
     "name": "stdout",
     "output_type": "stream",
     "text": [
      "모드 : 격리\n"
     ]
    },
    {
     "ename": "KeyboardInterrupt",
     "evalue": "",
     "output_type": "error",
     "traceback": [
      "\u001b[1;31m---------------------------------------------------------------------------\u001b[0m",
      "\u001b[1;31mKeyboardInterrupt\u001b[0m                         Traceback (most recent call last)",
      "\u001b[1;32mc:\\Users\\lee\\Desktop\\github\\bybit\\v2.ipynb Cell 23\u001b[0m line \u001b[0;36m6\n\u001b[0;32m      <a href='vscode-notebook-cell:/c%3A/Users/lee/Desktop/github/bybit/v2.ipynb#X31sZmlsZQ%3D%3D?line=2'>3</a>\u001b[0m trading_info(key, secret, coin_symbol)\n\u001b[0;32m      <a href='vscode-notebook-cell:/c%3A/Users/lee/Desktop/github/bybit/v2.ipynb#X31sZmlsZQ%3D%3D?line=4'>5</a>\u001b[0m \u001b[39mwhile\u001b[39;00m \u001b[39mTrue\u001b[39;00m:\n\u001b[1;32m----> <a href='vscode-notebook-cell:/c%3A/Users/lee/Desktop/github/bybit/v2.ipynb#X31sZmlsZQ%3D%3D?line=5'>6</a>\u001b[0m     highPrice_reverse, lowPrice_reverse, closePrice_reverse \u001b[39m=\u001b[39m candle_mark_price(coin_symbol)\n\u001b[0;32m      <a href='vscode-notebook-cell:/c%3A/Users/lee/Desktop/github/bybit/v2.ipynb#X31sZmlsZQ%3D%3D?line=7'>8</a>\u001b[0m     ema_number \u001b[39m=\u001b[39m ema_indicator(closePrice_reverse, \u001b[39m50\u001b[39m)\n\u001b[0;32m      <a href='vscode-notebook-cell:/c%3A/Users/lee/Desktop/github/bybit/v2.ipynb#X31sZmlsZQ%3D%3D?line=8'>9</a>\u001b[0m     rsi_7_number \u001b[39m=\u001b[39m rsi_indicator(closePrice_reverse, \u001b[39m7\u001b[39m)\n",
      "\u001b[1;32mc:\\Users\\lee\\Desktop\\github\\bybit\\v2.ipynb Cell 23\u001b[0m line \u001b[0;36m9\n\u001b[0;32m      <a href='vscode-notebook-cell:/c%3A/Users/lee/Desktop/github/bybit/v2.ipynb#X31sZmlsZQ%3D%3D?line=6'>7</a>\u001b[0m \u001b[39m# get_kline / get_mark_price_kline\u001b[39;00m\n\u001b[0;32m      <a href='vscode-notebook-cell:/c%3A/Users/lee/Desktop/github/bybit/v2.ipynb#X31sZmlsZQ%3D%3D?line=7'>8</a>\u001b[0m session \u001b[39m=\u001b[39m HTTP(testnet\u001b[39m=\u001b[39m\u001b[39mTrue\u001b[39;00m)\n\u001b[1;32m----> <a href='vscode-notebook-cell:/c%3A/Users/lee/Desktop/github/bybit/v2.ipynb#X31sZmlsZQ%3D%3D?line=8'>9</a>\u001b[0m price \u001b[39m=\u001b[39m session\u001b[39m.\u001b[39;49mget_mark_price_kline(\n\u001b[0;32m     <a href='vscode-notebook-cell:/c%3A/Users/lee/Desktop/github/bybit/v2.ipynb#X31sZmlsZQ%3D%3D?line=9'>10</a>\u001b[0m     category\u001b[39m=\u001b[39;49m\u001b[39m\"\u001b[39;49m\u001b[39mlinear\u001b[39;49m\u001b[39m\"\u001b[39;49m,\n\u001b[0;32m     <a href='vscode-notebook-cell:/c%3A/Users/lee/Desktop/github/bybit/v2.ipynb#X31sZmlsZQ%3D%3D?line=10'>11</a>\u001b[0m     symbol\u001b[39m=\u001b[39;49mcoin_symbol,\n\u001b[0;32m     <a href='vscode-notebook-cell:/c%3A/Users/lee/Desktop/github/bybit/v2.ipynb#X31sZmlsZQ%3D%3D?line=11'>12</a>\u001b[0m     interval\u001b[39m=\u001b[39;49m\u001b[39m1\u001b[39;49m,\n\u001b[0;32m     <a href='vscode-notebook-cell:/c%3A/Users/lee/Desktop/github/bybit/v2.ipynb#X31sZmlsZQ%3D%3D?line=12'>13</a>\u001b[0m     start\u001b[39m=\u001b[39;49mnow_timestamp\u001b[39m-\u001b[39;49m\u001b[39m60000000\u001b[39;49m,\n\u001b[0;32m     <a href='vscode-notebook-cell:/c%3A/Users/lee/Desktop/github/bybit/v2.ipynb#X31sZmlsZQ%3D%3D?line=13'>14</a>\u001b[0m     end\u001b[39m=\u001b[39;49mnow_timestamp,\n\u001b[0;32m     <a href='vscode-notebook-cell:/c%3A/Users/lee/Desktop/github/bybit/v2.ipynb#X31sZmlsZQ%3D%3D?line=14'>15</a>\u001b[0m     limit\u001b[39m=\u001b[39;49m\u001b[39m1000\u001b[39;49m,\n\u001b[0;32m     <a href='vscode-notebook-cell:/c%3A/Users/lee/Desktop/github/bybit/v2.ipynb#X31sZmlsZQ%3D%3D?line=15'>16</a>\u001b[0m )\n\u001b[0;32m     <a href='vscode-notebook-cell:/c%3A/Users/lee/Desktop/github/bybit/v2.ipynb#X31sZmlsZQ%3D%3D?line=17'>18</a>\u001b[0m \u001b[39m# price['result']['list'][:1001]\u001b[39;00m\n\u001b[0;32m     <a href='vscode-notebook-cell:/c%3A/Users/lee/Desktop/github/bybit/v2.ipynb#X31sZmlsZQ%3D%3D?line=19'>20</a>\u001b[0m a_hundred_prices \u001b[39m=\u001b[39m price[\u001b[39m'\u001b[39m\u001b[39mresult\u001b[39m\u001b[39m'\u001b[39m][\u001b[39m'\u001b[39m\u001b[39mlist\u001b[39m\u001b[39m'\u001b[39m]\n",
      "File \u001b[1;32mc:\\Users\\lee\\AppData\\Local\\Programs\\Python\\Python310\\lib\\site-packages\\pybit\\_v5_market.py:53\u001b[0m, in \u001b[0;36mMarketHTTP.get_mark_price_kline\u001b[1;34m(self, **kwargs)\u001b[0m\n\u001b[0;32m     39\u001b[0m \u001b[39mdef\u001b[39;00m \u001b[39mget_mark_price_kline\u001b[39m(\u001b[39mself\u001b[39m, \u001b[39m*\u001b[39m\u001b[39m*\u001b[39mkwargs):\n\u001b[0;32m     40\u001b[0m \u001b[39m    \u001b[39m\u001b[39m\"\"\"Query the mark price kline data. Charts are returned in groups based on the requested interval.\u001b[39;00m\n\u001b[0;32m     41\u001b[0m \n\u001b[0;32m     42\u001b[0m \u001b[39m    Required args:\u001b[39;00m\n\u001b[1;32m   (...)\u001b[0m\n\u001b[0;32m     51\u001b[0m \u001b[39m        https://bybit-exchange.github.io/docs/v5/market/mark-kline\u001b[39;00m\n\u001b[0;32m     52\u001b[0m \u001b[39m    \"\"\"\u001b[39;00m\n\u001b[1;32m---> 53\u001b[0m     \u001b[39mreturn\u001b[39;00m \u001b[39mself\u001b[39;49m\u001b[39m.\u001b[39;49m_submit_request(\n\u001b[0;32m     54\u001b[0m         method\u001b[39m=\u001b[39;49m\u001b[39m\"\u001b[39;49m\u001b[39mGET\u001b[39;49m\u001b[39m\"\u001b[39;49m,\n\u001b[0;32m     55\u001b[0m         path\u001b[39m=\u001b[39;49m\u001b[39mf\u001b[39;49m\u001b[39m\"\u001b[39;49m\u001b[39m{\u001b[39;49;00m\u001b[39mself\u001b[39;49m\u001b[39m.\u001b[39;49mendpoint\u001b[39m}\u001b[39;49;00m\u001b[39m{\u001b[39;49;00mMarket\u001b[39m.\u001b[39;49mGET_MARK_PRICE_KLINE\u001b[39m}\u001b[39;49;00m\u001b[39m\"\u001b[39;49m,\n\u001b[0;32m     56\u001b[0m         query\u001b[39m=\u001b[39;49mkwargs,\n\u001b[0;32m     57\u001b[0m     )\n",
      "File \u001b[1;32mc:\\Users\\lee\\AppData\\Local\\Programs\\Python\\Python310\\lib\\site-packages\\pybit\\_http_manager.py:272\u001b[0m, in \u001b[0;36m_V5HTTPManager._submit_request\u001b[1;34m(self, method, path, query, auth)\u001b[0m\n\u001b[0;32m    270\u001b[0m \u001b[39m# Attempt the request.\u001b[39;00m\n\u001b[0;32m    271\u001b[0m \u001b[39mtry\u001b[39;00m:\n\u001b[1;32m--> 272\u001b[0m     s \u001b[39m=\u001b[39m \u001b[39mself\u001b[39;49m\u001b[39m.\u001b[39;49mclient\u001b[39m.\u001b[39;49msend(r, timeout\u001b[39m=\u001b[39;49m\u001b[39mself\u001b[39;49m\u001b[39m.\u001b[39;49mtimeout)\n\u001b[0;32m    274\u001b[0m \u001b[39m# If requests fires an error, retry.\u001b[39;00m\n\u001b[0;32m    275\u001b[0m \u001b[39mexcept\u001b[39;00m (\n\u001b[0;32m    276\u001b[0m     requests\u001b[39m.\u001b[39mexceptions\u001b[39m.\u001b[39mReadTimeout,\n\u001b[0;32m    277\u001b[0m     requests\u001b[39m.\u001b[39mexceptions\u001b[39m.\u001b[39mSSLError,\n\u001b[0;32m    278\u001b[0m     requests\u001b[39m.\u001b[39mexceptions\u001b[39m.\u001b[39mConnectionError,\n\u001b[0;32m    279\u001b[0m ) \u001b[39mas\u001b[39;00m e:\n",
      "File \u001b[1;32mc:\\Users\\lee\\AppData\\Local\\Programs\\Python\\Python310\\lib\\site-packages\\requests\\sessions.py:703\u001b[0m, in \u001b[0;36mSession.send\u001b[1;34m(self, request, **kwargs)\u001b[0m\n\u001b[0;32m    700\u001b[0m start \u001b[39m=\u001b[39m preferred_clock()\n\u001b[0;32m    702\u001b[0m \u001b[39m# Send the request\u001b[39;00m\n\u001b[1;32m--> 703\u001b[0m r \u001b[39m=\u001b[39m adapter\u001b[39m.\u001b[39msend(request, \u001b[39m*\u001b[39m\u001b[39m*\u001b[39mkwargs)\n\u001b[0;32m    705\u001b[0m \u001b[39m# Total elapsed time of the request (approximately)\u001b[39;00m\n\u001b[0;32m    706\u001b[0m elapsed \u001b[39m=\u001b[39m preferred_clock() \u001b[39m-\u001b[39m start\n",
      "File \u001b[1;32mc:\\Users\\lee\\AppData\\Local\\Programs\\Python\\Python310\\lib\\site-packages\\requests\\adapters.py:486\u001b[0m, in \u001b[0;36mHTTPAdapter.send\u001b[1;34m(self, request, stream, timeout, verify, cert, proxies)\u001b[0m\n\u001b[0;32m    483\u001b[0m     timeout \u001b[39m=\u001b[39m TimeoutSauce(connect\u001b[39m=\u001b[39mtimeout, read\u001b[39m=\u001b[39mtimeout)\n\u001b[0;32m    485\u001b[0m \u001b[39mtry\u001b[39;00m:\n\u001b[1;32m--> 486\u001b[0m     resp \u001b[39m=\u001b[39m conn\u001b[39m.\u001b[39;49murlopen(\n\u001b[0;32m    487\u001b[0m         method\u001b[39m=\u001b[39;49mrequest\u001b[39m.\u001b[39;49mmethod,\n\u001b[0;32m    488\u001b[0m         url\u001b[39m=\u001b[39;49murl,\n\u001b[0;32m    489\u001b[0m         body\u001b[39m=\u001b[39;49mrequest\u001b[39m.\u001b[39;49mbody,\n\u001b[0;32m    490\u001b[0m         headers\u001b[39m=\u001b[39;49mrequest\u001b[39m.\u001b[39;49mheaders,\n\u001b[0;32m    491\u001b[0m         redirect\u001b[39m=\u001b[39;49m\u001b[39mFalse\u001b[39;49;00m,\n\u001b[0;32m    492\u001b[0m         assert_same_host\u001b[39m=\u001b[39;49m\u001b[39mFalse\u001b[39;49;00m,\n\u001b[0;32m    493\u001b[0m         preload_content\u001b[39m=\u001b[39;49m\u001b[39mFalse\u001b[39;49;00m,\n\u001b[0;32m    494\u001b[0m         decode_content\u001b[39m=\u001b[39;49m\u001b[39mFalse\u001b[39;49;00m,\n\u001b[0;32m    495\u001b[0m         retries\u001b[39m=\u001b[39;49m\u001b[39mself\u001b[39;49m\u001b[39m.\u001b[39;49mmax_retries,\n\u001b[0;32m    496\u001b[0m         timeout\u001b[39m=\u001b[39;49mtimeout,\n\u001b[0;32m    497\u001b[0m         chunked\u001b[39m=\u001b[39;49mchunked,\n\u001b[0;32m    498\u001b[0m     )\n\u001b[0;32m    500\u001b[0m \u001b[39mexcept\u001b[39;00m (ProtocolError, \u001b[39mOSError\u001b[39;00m) \u001b[39mas\u001b[39;00m err:\n\u001b[0;32m    501\u001b[0m     \u001b[39mraise\u001b[39;00m \u001b[39mConnectionError\u001b[39;00m(err, request\u001b[39m=\u001b[39mrequest)\n",
      "File \u001b[1;32mc:\\Users\\lee\\AppData\\Local\\Programs\\Python\\Python310\\lib\\site-packages\\urllib3\\connectionpool.py:790\u001b[0m, in \u001b[0;36mHTTPConnectionPool.urlopen\u001b[1;34m(self, method, url, body, headers, retries, redirect, assert_same_host, timeout, pool_timeout, release_conn, chunked, body_pos, preload_content, decode_content, **response_kw)\u001b[0m\n\u001b[0;32m    787\u001b[0m response_conn \u001b[39m=\u001b[39m conn \u001b[39mif\u001b[39;00m \u001b[39mnot\u001b[39;00m release_conn \u001b[39melse\u001b[39;00m \u001b[39mNone\u001b[39;00m\n\u001b[0;32m    789\u001b[0m \u001b[39m# Make the request on the HTTPConnection object\u001b[39;00m\n\u001b[1;32m--> 790\u001b[0m response \u001b[39m=\u001b[39m \u001b[39mself\u001b[39m\u001b[39m.\u001b[39m_make_request(\n\u001b[0;32m    791\u001b[0m     conn,\n\u001b[0;32m    792\u001b[0m     method,\n\u001b[0;32m    793\u001b[0m     url,\n\u001b[0;32m    794\u001b[0m     timeout\u001b[39m=\u001b[39mtimeout_obj,\n\u001b[0;32m    795\u001b[0m     body\u001b[39m=\u001b[39mbody,\n\u001b[0;32m    796\u001b[0m     headers\u001b[39m=\u001b[39mheaders,\n\u001b[0;32m    797\u001b[0m     chunked\u001b[39m=\u001b[39mchunked,\n\u001b[0;32m    798\u001b[0m     retries\u001b[39m=\u001b[39mretries,\n\u001b[0;32m    799\u001b[0m     response_conn\u001b[39m=\u001b[39mresponse_conn,\n\u001b[0;32m    800\u001b[0m     preload_content\u001b[39m=\u001b[39mpreload_content,\n\u001b[0;32m    801\u001b[0m     decode_content\u001b[39m=\u001b[39mdecode_content,\n\u001b[0;32m    802\u001b[0m     \u001b[39m*\u001b[39m\u001b[39m*\u001b[39mresponse_kw,\n\u001b[0;32m    803\u001b[0m )\n\u001b[0;32m    805\u001b[0m \u001b[39m# Everything went great!\u001b[39;00m\n\u001b[0;32m    806\u001b[0m clean_exit \u001b[39m=\u001b[39m \u001b[39mTrue\u001b[39;00m\n",
      "File \u001b[1;32mc:\\Users\\lee\\AppData\\Local\\Programs\\Python\\Python310\\lib\\site-packages\\urllib3\\connectionpool.py:467\u001b[0m, in \u001b[0;36mHTTPConnectionPool._make_request\u001b[1;34m(self, conn, method, url, body, headers, retries, timeout, chunked, response_conn, preload_content, decode_content, enforce_content_length)\u001b[0m\n\u001b[0;32m    464\u001b[0m \u001b[39mtry\u001b[39;00m:\n\u001b[0;32m    465\u001b[0m     \u001b[39m# Trigger any extra validation we need to do.\u001b[39;00m\n\u001b[0;32m    466\u001b[0m     \u001b[39mtry\u001b[39;00m:\n\u001b[1;32m--> 467\u001b[0m         \u001b[39mself\u001b[39;49m\u001b[39m.\u001b[39;49m_validate_conn(conn)\n\u001b[0;32m    468\u001b[0m     \u001b[39mexcept\u001b[39;00m (SocketTimeout, BaseSSLError) \u001b[39mas\u001b[39;00m e:\n\u001b[0;32m    469\u001b[0m         \u001b[39mself\u001b[39m\u001b[39m.\u001b[39m_raise_timeout(err\u001b[39m=\u001b[39me, url\u001b[39m=\u001b[39murl, timeout_value\u001b[39m=\u001b[39mconn\u001b[39m.\u001b[39mtimeout)\n",
      "File \u001b[1;32mc:\\Users\\lee\\AppData\\Local\\Programs\\Python\\Python310\\lib\\site-packages\\urllib3\\connectionpool.py:1096\u001b[0m, in \u001b[0;36mHTTPSConnectionPool._validate_conn\u001b[1;34m(self, conn)\u001b[0m\n\u001b[0;32m   1094\u001b[0m \u001b[39m# Force connect early to allow us to validate the connection.\u001b[39;00m\n\u001b[0;32m   1095\u001b[0m \u001b[39mif\u001b[39;00m conn\u001b[39m.\u001b[39mis_closed:\n\u001b[1;32m-> 1096\u001b[0m     conn\u001b[39m.\u001b[39;49mconnect()\n\u001b[0;32m   1098\u001b[0m \u001b[39mif\u001b[39;00m \u001b[39mnot\u001b[39;00m conn\u001b[39m.\u001b[39mis_verified:\n\u001b[0;32m   1099\u001b[0m     warnings\u001b[39m.\u001b[39mwarn(\n\u001b[0;32m   1100\u001b[0m         (\n\u001b[0;32m   1101\u001b[0m             \u001b[39mf\u001b[39m\u001b[39m\"\u001b[39m\u001b[39mUnverified HTTPS request is being made to host \u001b[39m\u001b[39m'\u001b[39m\u001b[39m{\u001b[39;00mconn\u001b[39m.\u001b[39mhost\u001b[39m}\u001b[39;00m\u001b[39m'\u001b[39m\u001b[39m. \u001b[39m\u001b[39m\"\u001b[39m\n\u001b[1;32m   (...)\u001b[0m\n\u001b[0;32m   1106\u001b[0m         InsecureRequestWarning,\n\u001b[0;32m   1107\u001b[0m     )\n",
      "File \u001b[1;32mc:\\Users\\lee\\AppData\\Local\\Programs\\Python\\Python310\\lib\\site-packages\\urllib3\\connection.py:642\u001b[0m, in \u001b[0;36mHTTPSConnection.connect\u001b[1;34m(self)\u001b[0m\n\u001b[0;32m    633\u001b[0m \u001b[39mif\u001b[39;00m is_time_off:\n\u001b[0;32m    634\u001b[0m     warnings\u001b[39m.\u001b[39mwarn(\n\u001b[0;32m    635\u001b[0m         (\n\u001b[0;32m    636\u001b[0m             \u001b[39mf\u001b[39m\u001b[39m\"\u001b[39m\u001b[39mSystem time is way off (before \u001b[39m\u001b[39m{\u001b[39;00mRECENT_DATE\u001b[39m}\u001b[39;00m\u001b[39m). This will probably \u001b[39m\u001b[39m\"\u001b[39m\n\u001b[1;32m   (...)\u001b[0m\n\u001b[0;32m    639\u001b[0m         SystemTimeWarning,\n\u001b[0;32m    640\u001b[0m     )\n\u001b[1;32m--> 642\u001b[0m sock_and_verified \u001b[39m=\u001b[39m _ssl_wrap_socket_and_match_hostname(\n\u001b[0;32m    643\u001b[0m     sock\u001b[39m=\u001b[39;49msock,\n\u001b[0;32m    644\u001b[0m     cert_reqs\u001b[39m=\u001b[39;49m\u001b[39mself\u001b[39;49m\u001b[39m.\u001b[39;49mcert_reqs,\n\u001b[0;32m    645\u001b[0m     ssl_version\u001b[39m=\u001b[39;49m\u001b[39mself\u001b[39;49m\u001b[39m.\u001b[39;49mssl_version,\n\u001b[0;32m    646\u001b[0m     ssl_minimum_version\u001b[39m=\u001b[39;49m\u001b[39mself\u001b[39;49m\u001b[39m.\u001b[39;49mssl_minimum_version,\n\u001b[0;32m    647\u001b[0m     ssl_maximum_version\u001b[39m=\u001b[39;49m\u001b[39mself\u001b[39;49m\u001b[39m.\u001b[39;49mssl_maximum_version,\n\u001b[0;32m    648\u001b[0m     ca_certs\u001b[39m=\u001b[39;49m\u001b[39mself\u001b[39;49m\u001b[39m.\u001b[39;49mca_certs,\n\u001b[0;32m    649\u001b[0m     ca_cert_dir\u001b[39m=\u001b[39;49m\u001b[39mself\u001b[39;49m\u001b[39m.\u001b[39;49mca_cert_dir,\n\u001b[0;32m    650\u001b[0m     ca_cert_data\u001b[39m=\u001b[39;49m\u001b[39mself\u001b[39;49m\u001b[39m.\u001b[39;49mca_cert_data,\n\u001b[0;32m    651\u001b[0m     cert_file\u001b[39m=\u001b[39;49m\u001b[39mself\u001b[39;49m\u001b[39m.\u001b[39;49mcert_file,\n\u001b[0;32m    652\u001b[0m     key_file\u001b[39m=\u001b[39;49m\u001b[39mself\u001b[39;49m\u001b[39m.\u001b[39;49mkey_file,\n\u001b[0;32m    653\u001b[0m     key_password\u001b[39m=\u001b[39;49m\u001b[39mself\u001b[39;49m\u001b[39m.\u001b[39;49mkey_password,\n\u001b[0;32m    654\u001b[0m     server_hostname\u001b[39m=\u001b[39;49mserver_hostname,\n\u001b[0;32m    655\u001b[0m     ssl_context\u001b[39m=\u001b[39;49m\u001b[39mself\u001b[39;49m\u001b[39m.\u001b[39;49mssl_context,\n\u001b[0;32m    656\u001b[0m     tls_in_tls\u001b[39m=\u001b[39;49mtls_in_tls,\n\u001b[0;32m    657\u001b[0m     assert_hostname\u001b[39m=\u001b[39;49m\u001b[39mself\u001b[39;49m\u001b[39m.\u001b[39;49massert_hostname,\n\u001b[0;32m    658\u001b[0m     assert_fingerprint\u001b[39m=\u001b[39;49m\u001b[39mself\u001b[39;49m\u001b[39m.\u001b[39;49massert_fingerprint,\n\u001b[0;32m    659\u001b[0m )\n\u001b[0;32m    660\u001b[0m \u001b[39mself\u001b[39m\u001b[39m.\u001b[39msock \u001b[39m=\u001b[39m sock_and_verified\u001b[39m.\u001b[39msocket\n\u001b[0;32m    661\u001b[0m \u001b[39mself\u001b[39m\u001b[39m.\u001b[39mis_verified \u001b[39m=\u001b[39m sock_and_verified\u001b[39m.\u001b[39mis_verified\n",
      "File \u001b[1;32mc:\\Users\\lee\\AppData\\Local\\Programs\\Python\\Python310\\lib\\site-packages\\urllib3\\connection.py:782\u001b[0m, in \u001b[0;36m_ssl_wrap_socket_and_match_hostname\u001b[1;34m(sock, cert_reqs, ssl_version, ssl_minimum_version, ssl_maximum_version, cert_file, key_file, key_password, ca_certs, ca_cert_dir, ca_cert_data, assert_hostname, assert_fingerprint, server_hostname, ssl_context, tls_in_tls)\u001b[0m\n\u001b[0;32m    779\u001b[0m     \u001b[39mif\u001b[39;00m is_ipaddress(normalized):\n\u001b[0;32m    780\u001b[0m         server_hostname \u001b[39m=\u001b[39m normalized\n\u001b[1;32m--> 782\u001b[0m ssl_sock \u001b[39m=\u001b[39m ssl_wrap_socket(\n\u001b[0;32m    783\u001b[0m     sock\u001b[39m=\u001b[39;49msock,\n\u001b[0;32m    784\u001b[0m     keyfile\u001b[39m=\u001b[39;49mkey_file,\n\u001b[0;32m    785\u001b[0m     certfile\u001b[39m=\u001b[39;49mcert_file,\n\u001b[0;32m    786\u001b[0m     key_password\u001b[39m=\u001b[39;49mkey_password,\n\u001b[0;32m    787\u001b[0m     ca_certs\u001b[39m=\u001b[39;49mca_certs,\n\u001b[0;32m    788\u001b[0m     ca_cert_dir\u001b[39m=\u001b[39;49mca_cert_dir,\n\u001b[0;32m    789\u001b[0m     ca_cert_data\u001b[39m=\u001b[39;49mca_cert_data,\n\u001b[0;32m    790\u001b[0m     server_hostname\u001b[39m=\u001b[39;49mserver_hostname,\n\u001b[0;32m    791\u001b[0m     ssl_context\u001b[39m=\u001b[39;49mcontext,\n\u001b[0;32m    792\u001b[0m     tls_in_tls\u001b[39m=\u001b[39;49mtls_in_tls,\n\u001b[0;32m    793\u001b[0m )\n\u001b[0;32m    795\u001b[0m \u001b[39mtry\u001b[39;00m:\n\u001b[0;32m    796\u001b[0m     \u001b[39mif\u001b[39;00m assert_fingerprint:\n",
      "File \u001b[1;32mc:\\Users\\lee\\AppData\\Local\\Programs\\Python\\Python310\\lib\\site-packages\\urllib3\\util\\ssl_.py:445\u001b[0m, in \u001b[0;36mssl_wrap_socket\u001b[1;34m(sock, keyfile, certfile, cert_reqs, ca_certs, server_hostname, ssl_version, ciphers, ssl_context, ca_cert_dir, key_password, ca_cert_data, tls_in_tls)\u001b[0m\n\u001b[0;32m    443\u001b[0m \u001b[39mif\u001b[39;00m ca_certs \u001b[39mor\u001b[39;00m ca_cert_dir \u001b[39mor\u001b[39;00m ca_cert_data:\n\u001b[0;32m    444\u001b[0m     \u001b[39mtry\u001b[39;00m:\n\u001b[1;32m--> 445\u001b[0m         context\u001b[39m.\u001b[39;49mload_verify_locations(ca_certs, ca_cert_dir, ca_cert_data)\n\u001b[0;32m    446\u001b[0m     \u001b[39mexcept\u001b[39;00m \u001b[39mOSError\u001b[39;00m \u001b[39mas\u001b[39;00m e:\n\u001b[0;32m    447\u001b[0m         \u001b[39mraise\u001b[39;00m SSLError(e) \u001b[39mfrom\u001b[39;00m \u001b[39me\u001b[39;00m\n",
      "\u001b[1;31mKeyboardInterrupt\u001b[0m: "
     ]
    }
   ],
   "source": [
    "coin_symbol = 'MNTUSDT'\n",
    "\n",
    "trading_info(key, secret, coin_symbol)\n",
    "\n",
    "while True:\n",
    "    highPrice_reverse, lowPrice_reverse, closePrice_reverse = candle_mark_price(coin_symbol)\n",
    "\n",
    "    ema_number = ema_indicator(closePrice_reverse, 50)\n",
    "    rsi_7_number = rsi_indicator(closePrice_reverse, 7)\n",
    "    rsi_14_number = rsi_indicator(closePrice_reverse, 14)\n",
    "    rsi_21_number = rsi_indicator(closePrice_reverse, 21)\n",
    "    adx_number = adx_indicator(highPrice_reverse, lowPrice_reverse, closePrice_reverse, 14)\n",
    "\n",
    "    now_close_price = closePrice_reverse[-1] # 값 확인하기\n",
    "\n",
    "\n",
    "    if (rsi_7_number > rsi_14_number > rsi_21_number > 50) and (now_close_price > ema_number) and (adx_number > 20):\n",
    "        position_side = \"Buy\"\n",
    "        available_usdt, result_qty, tp_price, sl_price = qty_calculator(key, secret, coin_symbol, now_close_price, position_side)\n",
    "\n",
    "        oder_time = order_execution(key, secret, coin_symbol, position_side, result_qty, tp_price, sl_price)\n",
    "        print(f'코인 : {coin_symbol} / 주문 시간 : {oder_time} / 현재 종가: {now_close_price} / 금액 : {available_usdt} / 주문량 : {result_qty} / TP : {tp_price} / SL : {sl_price}')\n",
    "        order_db_record(db_password, coin_symbol, order_time, now_close_price, available_usdt, result_qty, tp_price, sl_price, ema_number, rsi_7_number, rsi_14_number, rsi_21_number, adx_number)\n",
    "\n",
    "        while True:\n",
    "            side_check = positon_info(key, secret, coin_symbol)\n",
    "\n",
    "            if side_check == 'None':\n",
    "                break\n",
    "            else:\n",
    "                pass   \n",
    "\n",
    "    elif (rsi_7_number < rsi_14_number < rsi_21_number < 50) and (now_close_price < ema_number) and (adx_number > 20):\n",
    "        position_side = \"Sell\"\n",
    "        available_usdt, result_qty, tp_price, sl_price = qty_calculator(key, secret, coin_symbol, now_close_price, position_side)\n",
    "\n",
    "        oder_time = order_execution(key, secret, coin_symbol, position_side, result_qty, tp_price, sl_price)\n",
    "        print(f'코인 : {coin_symbol} / 주문 시간 : {oder_time} / 현재 종가: {now_close_price} / 금액 : {available_usdt} / 주문량 : {result_qty} / TP : {tp_price} / SL : {sl_price}')\n",
    "        order_db_record(db_password, coin_symbol, order_time, now_close_price, available_usdt, result_qty, tp_price, sl_price, ema_number, rsi_7_number, rsi_14_number, rsi_21_number, adx_number)\n",
    "        \n",
    "        while True:\n",
    "            side_check = positon_info(key, secret, coin_symbol)\n",
    "\n",
    "            if side_check == 'None':\n",
    "                break\n",
    "            else:\n",
    "                pass\n",
    "\n",
    "    else:\n",
    "        pass\n"
   ]
  }
 ],
 "metadata": {
  "kernelspec": {
   "display_name": "Python 3 (ipykernel)",
   "language": "python",
   "name": "python3"
  },
  "language_info": {
   "codemirror_mode": {
    "name": "ipython",
    "version": 3
   },
   "file_extension": ".py",
   "mimetype": "text/x-python",
   "name": "python",
   "nbconvert_exporter": "python",
   "pygments_lexer": "ipython3",
   "version": "3.10.11"
  }
 },
 "nbformat": 4,
 "nbformat_minor": 4
}
