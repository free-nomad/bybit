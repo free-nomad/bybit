{
 "cells": [
  {
   "cell_type": "markdown",
   "metadata": {},
   "source": [
    "# IMPORT"
   ]
  },
  {
   "cell_type": "code",
   "execution_count": 1,
   "metadata": {},
   "outputs": [],
   "source": [
    "from pybit.unified_trading import HTTP\n",
    "from datetime import datetime\n",
    "import math\n",
    "import talib\n",
    "import numpy as np"
   ]
  },
  {
   "cell_type": "markdown",
   "metadata": {},
   "source": [
    "# API KEY"
   ]
  },
  {
   "cell_type": "code",
   "execution_count": 1,
   "metadata": {},
   "outputs": [],
   "source": [
    "# 파일을 읽기 모드로 열기\n",
    "with open(\"C:\\\\Users\\\\lee\\\\Desktop\\\\bybit\\\\api.txt\", \"r\") as file:\n",
    "    api_list = []\n",
    "    # 파일의 각 줄에 대해 반복\n",
    "    for line in file:\n",
    "        # 각 줄 출력\n",
    "        api_list.append(line.strip())  # strip()은 줄 바꿈 문자(\\n) 등을 제거하여 출력합니다.\n",
    "\n",
    "key = api_list[0]\n",
    "secret = api_list[1]"
   ]
  },
  {
   "cell_type": "markdown",
   "metadata": {},
   "source": [
    "# 트레이딩 정보 가져오기 / 교차, 격리, 레버리지 배율 수정"
   ]
  },
  {
   "cell_type": "code",
   "execution_count": 2,
   "metadata": {},
   "outputs": [
    {
     "name": "stdout",
     "output_type": "stream",
     "text": [
      "모드 : 격리\n"
     ]
    }
   ],
   "source": [
    "# api 적용 세션\n",
    "session = HTTP(\n",
    "    # testnet=True,\n",
    "    api_key=key,\n",
    "    api_secret=secret,\n",
    ")\n",
    "\n",
    "# 트레이딩 정보 가져오기\n",
    "trading_info = session.get_positions(\n",
    "    category=\"linear\",\n",
    "    symbol=\"BTCUSDT\",\n",
    ")\n",
    "\n",
    "cross_isolated = trading_info['result']['list'][0]['tradeMode']\n",
    "\n",
    "if cross_isolated == 1:\n",
    "    print('모드 : 격리')\n",
    "else:\n",
    "    # 교차, 격리 / 레버리지 배율 수정\n",
    "    session.switch_margin_mode(\n",
    "    category=\"linear\",\n",
    "    symbol=\"MNTUSDT\",\n",
    "    tradeMode=1, # 0: cross margin. 1: isolated margin\n",
    "    buyLeverage=\"1\",\n",
    "    sellLeverage=\"1\",\n",
    "    )\n",
    "    print('모드 : 격리로 변경')\n",
    "\n"
   ]
  },
  {
   "cell_type": "markdown",
   "metadata": {},
   "source": [
    "# 캔들 마크 가격"
   ]
  },
  {
   "cell_type": "code",
   "execution_count": 7,
   "metadata": {},
   "outputs": [
    {
     "data": {
      "text/plain": [
       "[['1700733720000', '37605.69', '37608.1', '37595.98', '37599.66'],\n",
       " ['1700733660000', '37638.9', '37638.9', '37605.69', '37605.69'],\n",
       " ['1700733600000', '37642.6', '37644.41', '37638.2', '37638.9']]"
      ]
     },
     "execution_count": 7,
     "metadata": {},
     "output_type": "execute_result"
    }
   ],
   "source": [
    "now = datetime.now()\n",
    "now_timestamp = math.floor(now.timestamp()*1000)\n",
    "\n",
    "# get_kline / get_mark_price_kline\n",
    "session = HTTP(testnet=True)\n",
    "price = session.get_mark_price_kline(\n",
    "    category=\"linear\",\n",
    "    symbol=\"BTCUSDT\",\n",
    "    interval=1,\n",
    "    start=now_timestamp-60000000,\n",
    "    end=now_timestamp,\n",
    "    limit=1000,\n",
    ")\n",
    "\n",
    "price['result']['list'][0:3]"
   ]
  },
  {
   "cell_type": "code",
   "execution_count": null,
   "metadata": {},
   "outputs": [],
   "source": [
    "a_hundred_prices = price['result']['list']\n",
    "highPrice = []\n",
    "lowPrice = []\n",
    "closePrice = []\n",
    "for i in range(len(a_hundred_prices)):\n",
    "    # a = float(a_hundred_prices[i][2])\n",
    "    # b = float(a_hundred_prices[i][3])\n",
    "    # c = float(a_hundred_prices[i][4])\n",
    "    # highPrice.append(a)\n",
    "    # lowPrice.append(b)\n",
    "    # closePrice.append(c)\n",
    "\n",
    "    highPrice.append(float(a_hundred_prices[i][2]))\n",
    "    lowPrice.append(float(a_hundred_prices[i][3]))\n",
    "    closePrice.append(float(a_hundred_prices[i][4]))\n",
    "\n",
    "# 가장 최신 가격을 앞에서 뒤로 변경하기 위한 코드\n",
    "highPrice_reverse = highPrice[::-1]\n",
    "lowPrice_reverse = lowPrice[::-1]\n",
    "closePrice_reverse = closePrice[::-1]"
   ]
  },
  {
   "cell_type": "markdown",
   "metadata": {},
   "source": [
    "# 기술적 지표"
   ]
  },
  {
   "cell_type": "code",
   "execution_count": null,
   "metadata": {},
   "outputs": [],
   "source": [
    "def ema_indicator(closePrice_reverse, period):\n",
    "    # EMA\n",
    "    price_data = np.array(closePrice_reverse) # 파라미터\n",
    "\n",
    "    ema_period = period # 파라미터\n",
    "    ema_values = talib.EMA(price_data, timeperiod=ema_period)\n",
    "\n",
    "    return ema_values"
   ]
  },
  {
   "cell_type": "code",
   "execution_count": null,
   "metadata": {},
   "outputs": [],
   "source": [
    "def rsi_indicator(closePrice_reverse, period):\n",
    "    # RSI\n",
    "    price_data = np.array(closePrice_reverse) # 파라미터\n",
    "\n",
    "    rsi_period = period # 파라미터\n",
    "    rsi_values = talib.RSI(price_data, timeperiod=rsi_period)\n",
    "\n",
    "    return rsi_values"
   ]
  },
  {
   "cell_type": "code",
   "execution_count": null,
   "metadata": {},
   "outputs": [],
   "source": [
    "def adx_indicator(highPrice_reverse, lowPrice_reverse, closePrice_reverse, period):\n",
    "    # ADX\n",
    "    high_data = np.array(highPrice_reverse) # 파라미터\n",
    "    low_data = np.array(lowPrice_reverse) # 파라미터\n",
    "    close_data = np.array(closePrice_reverse) # 파라미터\n",
    "\n",
    "    adx_period = period # 파라미터\n",
    "    adx_values = talib.ADX(high_data, low_data, close_data, timeperiod=adx_period)\n",
    "\n",
    "    return adx_values"
   ]
  },
  {
   "cell_type": "markdown",
   "metadata": {},
   "source": [
    "# QTY"
   ]
  },
  {
   "cell_type": "code",
   "execution_count": 3,
   "metadata": {},
   "outputs": [
    {
     "name": "stdout",
     "output_type": "stream",
     "text": [
      "주문 시간 :  2023-11-22 13:44:18.766000\n"
     ]
    }
   ],
   "source": [
    "# 사용 가능한 usdt 값\n",
    "for_usdt = session.get_wallet_balance(\n",
    "    accountType=\"CONTRACT\",\n",
    "    coin=\"USDT\",\n",
    ")\n",
    "\n",
    "available_usdt = for_usdt['result']['list'][0]['coin'][0]['availableToWithdraw']\n",
    "available_usdt = float(available_usdt)\n",
    "\n",
    "# 최소 주문 금액에 따른 소수점 버리기 및 정수화\n",
    "session = HTTP(testnet=True)\n",
    "instruments_info = session.get_instruments_info(\n",
    "    category=\"linear\",\n",
    "    symbol=\"BTCUSDT\",\n",
    ")\n",
    "\n",
    "minOrderQty = instruments_info['result']['list'][0]['lotSizeFilter']['minOrderQty']\n",
    "minOrderQty = float(minOrderQty)\n",
    "\n",
    "if minOrderQty == 0.001:\n",
    "    result_qty = available_usdt / 현재 종가\n",
    "    result_qty = \"{:.3f}\".format(result_qty)\n",
    "\n",
    "elif minOrderQty == 0.01:\n",
    "    result_qty = available_usdt / 현재 종가\n",
    "    result_qty = \"{:.2f}\".format(result_qty)\n",
    "\n",
    "elif minOrderQty == 0.1:\n",
    "    result_qty = available_usdt / 현재 종가\n",
    "    result_qty = \"{:.1f}\".format(result_qty)\n",
    "\n",
    "else:\n",
    "    result_qty = available_usdt / 현재 종가\n",
    "    result_qty = int(result_qty)\n",
    "    result_qty = str(result_qty)\n",
    "\n",
    "\n"
   ]
  },
  {
   "cell_type": "markdown",
   "metadata": {},
   "source": [
    "# 주문"
   ]
  },
  {
   "cell_type": "code",
   "execution_count": 1,
   "metadata": {},
   "outputs": [
    {
     "data": {
      "text/plain": [
       "'1.242'"
      ]
     },
     "execution_count": 1,
     "metadata": {},
     "output_type": "execute_result"
    }
   ],
   "source": [
    "order_execution = session.place_order(\n",
    "    category=\"linear\",\n",
    "    symbol=\"MNTUSDT\",\n",
    "    side=\"Buy\", \n",
    "    orderType=\"Market\",\n",
    "    qty=result_qty, \n",
    "    timeInForce=\"IOC\", \n",
    "    isLeverage=1,\n",
    "    orderFilter=\"Order\",\n",
    "    \n",
    "    # TP / SL\n",
    "    takeProfit = tp_price\n",
    "    stopLoss = sl_price\n",
    ")\n",
    "\n",
    "oder_time = datetime.utcfromtimestamp(order_execution['time']/1000)\n",
    "\n",
    "print(f'주문 시간 : {oder_time} /  주문량 : {result_qty} / TP : {tp_price} / SL : {sl_price}')"
   ]
  },
  {
   "cell_type": "markdown",
   "metadata": {},
   "source": [
    "# TP / SL"
   ]
  },
  {
   "cell_type": "code",
   "execution_count": 29,
   "metadata": {},
   "outputs": [],
   "source": [
    "def find_first_digit_after_decimal(str_number):\n",
    "    # 소수점 이하의 숫자 추출\n",
    "    decimal_part = str(str_number).split('.')[1]\n",
    "    \n",
    "    # 1의 자리 숫자 찾기\n",
    "    for i in range(len(decimal_part)):\n",
    "        if decimal_part[i] == '1':\n",
    "            return i + 1  # 1의 자리이므로 인덱스 + 1 반환\n",
    "    \n",
    "    return None  # 1의 자리 숫자가 없는 경우\n",
    "\n",
    "# 최소 주문 금액\n",
    "minPrice = instruments_info['result']['list'][0]['priceFilter']['minPrice']\n",
    "\n",
    "# 1의 자리수 \n",
    "one_seat = find_first_digit_after_decimal(minPrice)\n",
    "\n",
    "# TP / SL 변수 값\n",
    "tp_price = 현재 종가 + (현재 종가 * 0.01)\n",
    "tp_price = str(tp_price)\n",
    "tp_price = tp_price[:one_seat+2]\n",
    "tp_price = float(tp_price)\n",
    "\n",
    "sl_price = 현재 종가 + (현재 종가 * 0.005)\n",
    "sl_price = str(sl_price)\n",
    "sl_price = sl_price[:one_seat+2]\n",
    "sl_price = float(sl_price)"
   ]
  },
  {
   "cell_type": "markdown",
   "metadata": {},
   "source": [
    "# TEST"
   ]
  }
 ],
 "metadata": {
  "kernelspec": {
   "display_name": "Python 3",
   "language": "python",
   "name": "python3"
  },
  "language_info": {
   "codemirror_mode": {
    "name": "ipython",
    "version": 3
   },
   "file_extension": ".py",
   "mimetype": "text/x-python",
   "name": "python",
   "nbconvert_exporter": "python",
   "pygments_lexer": "ipython3",
   "version": "3.10.11"
  }
 },
 "nbformat": 4,
 "nbformat_minor": 2
}
