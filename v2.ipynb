{
 "cells": [
  {
   "cell_type": "markdown",
   "metadata": {},
   "source": [
    "# API KEY"
   ]
  },
  {
   "cell_type": "code",
   "execution_count": 1,
   "metadata": {},
   "outputs": [],
   "source": [
    "# 파일을 읽기 모드로 열기\n",
    "with open(\"C:\\\\Users\\\\lee\\\\Desktop\\\\bybit\\\\api.txt\", \"r\") as file:\n",
    "    api_list = []\n",
    "    # 파일의 각 줄에 대해 반복\n",
    "    for line in file:\n",
    "        # 각 줄 출력\n",
    "        api_list.append(line.strip())  # strip()은 줄 바꿈 문자(\\n) 등을 제거하여 출력합니다."
   ]
  },
  {
   "cell_type": "markdown",
   "metadata": {},
   "source": [
    "# TRADE & TP/SL"
   ]
  },
  {
   "cell_type": "code",
   "execution_count": null,
   "metadata": {},
   "outputs": [],
   "source": [
    "from pybit.unified_trading import HTTP\n",
    "\n",
    "key = api_list[0]\n",
    "secret = api_list[1]\n",
    "\n",
    "session = HTTP(\n",
    "    # testnet=True,\n",
    "    api_key=key,\n",
    "    api_secret=secret,\n",
    ")\n",
    "\n",
    "# 교차, 격리 / 레버리지 배율\n",
    "print(session.switch_margin_mode(\n",
    "    category=\"linear\",\n",
    "    symbol=\"MNTUSDT\",\n",
    "    tradeMode=1, # 0: cross margin. 1: isolated margin\n",
    "    buyLeverage=\"1\",\n",
    "    sellLeverage=\"1\",\n",
    "))\n",
    "\n",
    "# 주문 조건\n",
    "print(session.place_order(\n",
    "    category=\"linear\",\n",
    "    symbol=\"MNTUSDT\",\n",
    "    side=\"Buy\",\n",
    "    orderType=\"Market\",\n",
    "    qty=\"1\",\n",
    "    # price=\"15600\", 지정가일 때만 필요\n",
    "    timeInForce=\"IOC\",\n",
    "    orderLinkId=\"one-view\",\n",
    "    isLeverage=1,\n",
    "    orderFilter=\"Order\",\n",
    "    \n",
    "    # 추가\n",
    "    takeProfit = 0.5,\n",
    "    stopLoss = 0.42,\n",
    "))"
   ]
  }
 ],
 "metadata": {
  "kernelspec": {
   "display_name": "Python 3",
   "language": "python",
   "name": "python3"
  },
  "language_info": {
   "codemirror_mode": {
    "name": "ipython",
    "version": 3
   },
   "file_extension": ".py",
   "mimetype": "text/x-python",
   "name": "python",
   "nbconvert_exporter": "python",
   "pygments_lexer": "ipython3",
   "version": "3.10.11"
  }
 },
 "nbformat": 4,
 "nbformat_minor": 2
}
