{
 "cells": [
  {
   "cell_type": "code",
   "execution_count": 1,
   "metadata": {},
   "outputs": [],
   "source": [
    "# C:\\Program Files\\Google\\Chrome\\Application\\chrome.exe --remote-debugging-port=9222 --user-data-dir=\"C:/ChromeTEMP\"\n",
    "\n",
    "from selenium import webdriver\n",
    "from selenium.webdriver.chrome.options import Options\n",
    "from selenium.webdriver.common.by import By\n",
    "\n",
    "import time\n",
    "\n",
    "import winsound as sd"
   ]
  },
  {
   "cell_type": "code",
   "execution_count": 21,
   "metadata": {},
   "outputs": [],
   "source": [
    "def beepsound():\n",
    "    fr = 2000    # range : 37 ~ 32767\n",
    "    du = 3000     # 1000 ms ==1second\n",
    "    sd.Beep(fr, du) # winsound.Beep(frequency, duration)"
   ]
  },
  {
   "cell_type": "code",
   "execution_count": 2,
   "metadata": {},
   "outputs": [],
   "source": [
    "chrome_options = Options()\n",
    "chrome_options.add_experimental_option(\"debuggerAddress\", \"127.0.0.1:9222\")\n",
    "chrome_driver = \"C:\\Program Files\\Google\\Chrome\\Application\\chrome.exe \"\n",
    "driver = webdriver.Chrome(options=chrome_options)\n",
    "\n",
    "driver.get('https://www.bybit.com/trade/usdt/BLURUSDT')\n",
    "time.sleep(3)"
   ]
  },
  {
   "cell_type": "code",
   "execution_count": 3,
   "metadata": {},
   "outputs": [],
   "source": [
    "# 차트 프레임\n",
    "chart_frame = driver.find_element(By.XPATH, '//*[@id=\"root\"]/main/div[2]/div/div[2]/div[1]/div/div[2]/div/div[2]/iframe')      \n",
    "driver.switch_to.frame(chart_frame)"
   ]
  },
  {
   "cell_type": "code",
   "execution_count": null,
   "metadata": {},
   "outputs": [],
   "source": [
    "while True:\n",
    "\n",
    "    # ema 10\n",
    "    ema_10 = driver.find_element(By.XPATH, '/html/body/div[2]/div[1]/div[2]/div[1]/div[2]/table/tr[1]/td[2]/div/div[2]/div[2]/div[2]/div[3]/div[2]/div/div[1]/div').text\n",
    "    ema_10 = float(ema_10)\n",
    "\n",
    "    # ema 20\n",
    "    ema_20 = driver.find_element(By.XPATH, '/html/body/div[2]/div[1]/div[2]/div[1]/div[2]/table/tr[1]/td[2]/div/div[2]/div[2]/div[2]/div[4]/div[2]/div/div[1]/div').text\n",
    "    ema_20 = float(ema_20)\n",
    "\n",
    "    # ema 50\n",
    "    ema_50 = driver.find_element(By.XPATH, '/html/body/div[2]/div[1]/div[2]/div[1]/div[2]/table/tr[1]/td[2]/div/div[2]/div[2]/div[2]/div[5]/div[2]/div/div[1]/div').text\n",
    "    ema_50 = float(ema_50)\n",
    "\n",
    "    # rsi 7\n",
    "    rsi_7 = driver.find_element(By.XPATH, '/html/body/div[2]/div[1]/div[2]/div[1]/div[2]/table/tr[3]/td[2]/div/div[2]/div/div[2]/div[2]/div[2]/div/div[1]/div').text\n",
    "    rsi_7 = float(rsi_7)\n",
    "    # rsi 14\n",
    "    rsi_14 = driver.find_element(By.XPATH, '/html/body/div[2]/div[1]/div[2]/div[1]/div[2]/table/tr[5]/td[2]/div/div[2]/div/div[2]/div[2]/div[2]/div/div[1]/div').text\n",
    "    rsi_14 = float(rsi_14)\n",
    "\n",
    "    # rsi 21\n",
    "    rsi_21 = driver.find_element(By.XPATH, '/html/body/div[2]/div[1]/div[2]/div[1]/div[2]/table/tr[7]/td[2]/div/div[2]/div/div[2]/div[2]/div[2]/div/div[1]/div').text\n",
    "    rsi_21 = float(rsi_21)\n",
    "\n",
    "    if (rsi_7 > rsi_14 > rsi_21) and (ema_10 > ema_20 > ema_50):\n",
    "        print('LONG SIGNAL')\n",
    "        beepsound()\n",
    "        time.sleep(3)\n",
    "\n",
    "    elif (rsi_7 < rsi_14 < rsi_21) and (ema_10 < ema_20 < ema_50):\n",
    "        print('SHORT SIGNAL')\n",
    "        beepsound()\n",
    "        time.sleep(3)\n",
    "    \n",
    "    else:\n",
    "        pass\n"
   ]
  },
  {
   "cell_type": "code",
   "execution_count": null,
   "metadata": {},
   "outputs": [],
   "source": [
    "while True:\n",
    "\n",
    "    # rsi 7\n",
    "    rsi_7 = driver.find_element(By.XPATH, '/html/body/div[2]/div[1]/div[2]/div[1]/div[2]/table/tr[3]/td[2]/div/div[2]/div/div[2]/div[2]/div[2]/div/div[1]/div').text\n",
    "    rsi_7 = float(rsi_7)\n",
    "    # rsi 14\n",
    "    rsi_14 = driver.find_element(By.XPATH, '/html/body/div[2]/div[1]/div[2]/div[1]/div[2]/table/tr[5]/td[2]/div/div[2]/div/div[2]/div[2]/div[2]/div/div[1]/div').text\n",
    "    rsi_14 = float(rsi_14)\n",
    "\n",
    "    # rsi 21\n",
    "    rsi_21 = driver.find_element(By.XPATH, '/html/body/div[2]/div[1]/div[2]/div[1]/div[2]/table/tr[7]/td[2]/div/div[2]/div/div[2]/div[2]/div[2]/div/div[1]/div').text\n",
    "    rsi_21 = float(rsi_21)\n",
    "\n",
    "    if (rsi_7 > rsi_14 > rsi_21):\n",
    "        print('LONG SIGNAL')\n",
    "        beepsound()\n",
    "        time.sleep(3)\n",
    "\n",
    "    elif (rsi_7 < rsi_14 < rsi_21):\n",
    "        print('SHORT SIGNAL')\n",
    "        beepsound()\n",
    "        time.sleep(3)\n",
    "    \n",
    "    else:\n",
    "        pass\n"
   ]
  }
 ],
 "metadata": {
  "kernelspec": {
   "display_name": "Python 3",
   "language": "python",
   "name": "python3"
  },
  "language_info": {
   "codemirror_mode": {
    "name": "ipython",
    "version": 3
   },
   "file_extension": ".py",
   "mimetype": "text/x-python",
   "name": "python",
   "nbconvert_exporter": "python",
   "pygments_lexer": "ipython3",
   "version": "3.10.11"
  }
 },
 "nbformat": 4,
 "nbformat_minor": 2
}
