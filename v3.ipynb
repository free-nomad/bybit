{
 "cells": [
  {
   "cell_type": "markdown",
   "metadata": {},
   "source": [
    "# IMPORT"
   ]
  },
  {
   "cell_type": "code",
   "execution_count": 2,
   "metadata": {},
   "outputs": [],
   "source": [
    "from pybit.unified_trading import HTTP\n",
    "from datetime import datetime\n",
    "import math\n",
    "import talib\n",
    "import numpy as np\n",
    "import pymysql\n",
    "import cryptography"
   ]
  },
  {
   "cell_type": "markdown",
   "metadata": {},
   "source": [
    "# API KEY"
   ]
  },
  {
   "cell_type": "code",
   "execution_count": 3,
   "metadata": {},
   "outputs": [],
   "source": [
    "# api key\n",
    "with open(\"C:\\\\Users\\\\lee\\\\Desktop\\\\bybit\\\\api.txt\", \"r\") as file:\n",
    "    api_list = []\n",
    "    # 파일의 각 줄에 대해 반복\n",
    "    for line in file:\n",
    "        # 각 줄 출력\n",
    "        api_list.append(line.strip())  # strip()은 줄 바꿈 문자(\\n) 등을 제거하여 출력합니다.\n",
    "\n",
    "# sql pw\n",
    "with open(\"C:\\\\Users\\\\lee\\\\Desktop\\\\bybit\\\\pw.txt\", \"r\") as file:\n",
    "        db_password = file.readline()\n",
    "\n",
    "key = api_list[0]\n",
    "secret = api_list[1]"
   ]
  },
  {
   "cell_type": "markdown",
   "metadata": {},
   "source": [
    "# 트레이딩 정보 가져오기 / 교차, 격리, 레버리지 배율 수정"
   ]
  },
  {
   "cell_type": "code",
   "execution_count": 11,
   "metadata": {},
   "outputs": [],
   "source": [
    "def trading_info(key, secret, coin_symbol, leverage):\n",
    "\n",
    "    # api 적용 세션\n",
    "    session = HTTP(\n",
    "        # testnet=True,\n",
    "        api_key=key,\n",
    "        api_secret=secret,\n",
    "    )\n",
    "\n",
    "    # 트레이딩 정보 가져오기\n",
    "    trade_mode = session.get_positions(\n",
    "        category=\"linear\",\n",
    "        symbol=coin_symbol,\n",
    "    )\n",
    "\n",
    "    cross_isolated = trade_mode['result']['list'][0]['tradeMode']\n",
    "\n",
    "    if cross_isolated == 1:\n",
    "        return print('모드 : 격리')\n",
    "    else:\n",
    "        # 교차, 격리 / 레버리지 배율 수정\n",
    "        session.switch_margin_mode(\n",
    "        category=\"linear\",\n",
    "        symbol=coin_symbol,\n",
    "        tradeMode=1, # 0: cross margin. 1: isolated margin\n",
    "        buyLeverage=leverage,\n",
    "        sellLeverage=leverage,\n",
    "        )\n",
    "        return print('모드 : 격리로 변경')\n",
    "\n"
   ]
  },
  {
   "cell_type": "markdown",
   "metadata": {},
   "source": [
    "# 기술적 지표"
   ]
  },
  {
   "cell_type": "code",
   "execution_count": 11,
   "metadata": {},
   "outputs": [],
   "source": [
    "def rsi_indicator(closePrice_reverse, period):\n",
    "    # RSI\n",
    "    price_data = np.array(closePrice_reverse) # 파라미터\n",
    "\n",
    "    rsi_period = period # 파라미터\n",
    "    rsi_values = talib.RSI(price_data, timeperiod=rsi_period)\n",
    "\n",
    "    return rsi_values[-1]"
   ]
  },
  {
   "cell_type": "code",
   "execution_count": 12,
   "metadata": {},
   "outputs": [],
   "source": [
    "def bb_indicator(closePrice, period, up, down):\n",
    "    # Bollinger Bands\n",
    "    price_data = np.array(closePrice) # 파라미터\n",
    "\n",
    "    upperband, middleband, lowerband = talib.BBANDS(price_data, period, up, down)\n",
    "\n",
    "    return upperband[-1], middleband[-1], lowerband[-1]"
   ]
  },
  {
   "cell_type": "markdown",
   "metadata": {},
   "source": [
    "# 캔들 마크 가격"
   ]
  },
  {
   "cell_type": "code",
   "execution_count": 13,
   "metadata": {},
   "outputs": [],
   "source": [
    "def candle_mark_price(coin_symbol):\n",
    "\n",
    "    # 현재 시각 구하기\n",
    "    now = datetime.now()\n",
    "    now_timestamp = math.floor(now.timestamp()*1000)\n",
    "\n",
    "    # get_kline / get_mark_price_kline\n",
    "    session = HTTP(testnet=True)\n",
    "    price = session.get_mark_price_kline(\n",
    "        category=\"linear\",\n",
    "        symbol=coin_symbol,\n",
    "        interval=1,\n",
    "        start=now_timestamp-60000000,\n",
    "        end=now_timestamp,\n",
    "        limit=1000,\n",
    "    )\n",
    "\n",
    "    # price['result']['list'][:1001]\n",
    "\n",
    "    a_hundred_prices = price['result']['list']\n",
    "    highPrice = []\n",
    "    lowPrice = []\n",
    "    closePrice = []\n",
    "    for i in range(len(a_hundred_prices)):\n",
    "        highPrice.append(float(a_hundred_prices[i][2]))\n",
    "        lowPrice.append(float(a_hundred_prices[i][3]))\n",
    "        closePrice.append(float(a_hundred_prices[i][4]))\n",
    "\n",
    "    # 가장 최신 가격을 앞에서 뒤로 변경하기 위한 코드\n",
    "    highPrice_reverse = highPrice[::-1]\n",
    "    lowPrice_reverse = lowPrice[::-1]\n",
    "    closePrice_reverse = closePrice[::-1]\n",
    "\n",
    "    return highPrice_reverse, lowPrice_reverse, closePrice_reverse\n"
   ]
  },
  {
   "cell_type": "markdown",
   "metadata": {},
   "source": [
    "# QTY, TP/SL"
   ]
  },
  {
   "cell_type": "code",
   "execution_count": 14,
   "metadata": {},
   "outputs": [],
   "source": [
    "def find_first_digit_after_decimal(str_number):\n",
    "    # 소수점 이하의 숫자 추출\n",
    "    decimal_part = str(str_number).split('.')[1]\n",
    "    \n",
    "    # 1의 자리 숫자 찾기\n",
    "    for i in range(len(decimal_part)):\n",
    "        if decimal_part[i] == '1':\n",
    "            return i + 1  # 1의 자리이므로 인덱스 + 1 반환\n",
    "    \n",
    "    return None  # 1의 자리 숫자가 없는 경우"
   ]
  },
  {
   "cell_type": "code",
   "execution_count": 15,
   "metadata": {},
   "outputs": [],
   "source": [
    "def qty_calculator(key, secret, coin_symbol, now_close_price, position_side):\n",
    "    session = HTTP(\n",
    "        # testnet=True,\n",
    "        api_key=key,\n",
    "        api_secret=secret,\n",
    "    )\n",
    "    # 사용 가능한 usdt 값\n",
    "    for_usdt = session.get_wallet_balance(\n",
    "        accountType=\"CONTRACT\",\n",
    "        coin='USDT',\n",
    "    )\n",
    "\n",
    "    available_usdt = for_usdt['result']['list'][0]['coin'][0]['availableToWithdraw']\n",
    "    available_usdt = float(available_usdt)\n",
    "\n",
    "    # 최소 주문 금액에 따른 소수점 버리기 및 정수화\n",
    "    session = HTTP(testnet=True)\n",
    "    instruments_info = session.get_instruments_info(\n",
    "        category=\"linear\",\n",
    "        symbol=coin_symbol,\n",
    "    )\n",
    "\n",
    "    minOrderQty = instruments_info['result']['list'][0]['lotSizeFilter']['minOrderQty']\n",
    "    minOrderQty = float(minOrderQty)\n",
    "\n",
    "    if minOrderQty == 0.001:\n",
    "        result_qty = available_usdt / now_close_price\n",
    "        result_qty = \"{:.3f}\".format(result_qty)\n",
    "\n",
    "    elif minOrderQty == 0.01:\n",
    "        result_qty = available_usdt / now_close_price\n",
    "        result_qty = \"{:.2f}\".format(result_qty)\n",
    "\n",
    "    elif minOrderQty == 0.1:\n",
    "        result_qty = available_usdt / now_close_price\n",
    "        result_qty = \"{:.1f}\".format(result_qty)\n",
    "\n",
    "    else:\n",
    "        result_qty = available_usdt / now_close_price\n",
    "        result_qty = int(result_qty)\n",
    "        result_qty = str(result_qty)\n",
    "\n",
    "    # 최소 주문 금액\n",
    "    minPrice = instruments_info['result']['list'][0]['priceFilter']['minPrice']\n",
    "\n",
    "    # 1의 자리수 \n",
    "    one_seat = find_first_digit_after_decimal(minPrice)\n",
    "\n",
    "    # TP / SL 변수 값\n",
    "    if position_side == \"Buy\":\n",
    "        tp_price = now_close_price + (now_close_price * 0.01)\n",
    "        tp_price = str(tp_price)\n",
    "        tp_price = tp_price[:one_seat+2]\n",
    "        tp_price = float(tp_price)\n",
    "\n",
    "        sl_price = now_close_price - (now_close_price * 0.005)\n",
    "        sl_price = str(sl_price)\n",
    "        sl_price = sl_price[:one_seat+2]\n",
    "        sl_price = float(sl_price)\n",
    "\n",
    "    else:\n",
    "        tp_price = now_close_price - (now_close_price * 0.01)\n",
    "        tp_price = str(tp_price)\n",
    "        tp_price = tp_price[:one_seat+2]\n",
    "        tp_price = float(tp_price)\n",
    "\n",
    "        sl_price = now_close_price + (now_close_price * 0.005)\n",
    "        sl_price = str(sl_price)\n",
    "        sl_price = sl_price[:one_seat+2]\n",
    "        sl_price = float(sl_price)\n",
    "        \n",
    "\n",
    "    return available_usdt, result_qty, tp_price, sl_price"
   ]
  },
  {
   "cell_type": "markdown",
   "metadata": {},
   "source": [
    "# 롱 / 숏 판별"
   ]
  },
  {
   "cell_type": "code",
   "execution_count": 16,
   "metadata": {},
   "outputs": [],
   "source": [
    "def positon_info(key, secret, coin_symbol):\n",
    "    session = HTTP(\n",
    "        # testnet=True,\n",
    "        api_key=key,\n",
    "        api_secret=secret,\n",
    "    )\n",
    "    side_check = session.get_positions(\n",
    "        category=\"linear\",\n",
    "        symbol=coin_symbol,\n",
    "    )\n",
    "\n",
    "    return side_check['result']['list'][0]['side']"
   ]
  },
  {
   "cell_type": "markdown",
   "metadata": {},
   "source": [
    "# 주문"
   ]
  },
  {
   "cell_type": "code",
   "execution_count": 17,
   "metadata": {},
   "outputs": [],
   "source": [
    "def order_execution(key, secret, coin_symbol, order_side, result_qty, tp_price, sl_price):\n",
    "\n",
    "    session = HTTP(\n",
    "        # testnet=True,\n",
    "        api_key=key,\n",
    "        api_secret=secret,\n",
    "    )\n",
    "\n",
    "    order_session = session.place_order(\n",
    "        category=\"linear\",\n",
    "        symbol=coin_symbol,\n",
    "        side=order_side, \n",
    "        orderType=\"Market\",\n",
    "        qty=result_qty, \n",
    "        timeInForce=\"IOC\", \n",
    "        isLeverage=1,\n",
    "        orderFilter=\"Order\",\n",
    "        \n",
    "        # TP / SL\n",
    "        takeProfit = tp_price,\n",
    "        stopLoss = sl_price,\n",
    "    )\n",
    "\n",
    "    oder_time = datetime.utcfromtimestamp(order_session['time']/1000)\n",
    "\n",
    "    return oder_time"
   ]
  },
  {
   "cell_type": "markdown",
   "metadata": {},
   "source": [
    "# MySQL"
   ]
  },
  {
   "cell_type": "code",
   "execution_count": 18,
   "metadata": {},
   "outputs": [],
   "source": [
    "def order_db_record(db_password, coin_symbol, order_time, now_close_price, available_usdt, result_qty, tp_price, sl_price, rsi_14_number, bb_number):\n",
    "\n",
    "    conn = pymysql.connect(host='127.0.0.1', user='root', password=db_password, db='bybit', charset='utf8') \n",
    "\n",
    "    # 커서 생성\n",
    "    cursor = conn.cursor()\n",
    "\n",
    "    # 테이블 생성 쿼리\n",
    "    create_table_query = \"\"\"\n",
    "    CREATE TABLE IF NOT EXISTS orders (\n",
    "        id INT AUTO_INCREMENT PRIMARY KEY,\n",
    "        coin_symbol VARCHAR(20),\n",
    "        order_time VARCHAR(40),\n",
    "        now_close_price FLOAT,\n",
    "        available_usdt FLOAT,\n",
    "        result_qty FLOAT,\n",
    "        tp_price FLOAT,\n",
    "        sl_price FLOAT,\n",
    "        rsi_14_number FLOAT,\n",
    "        bb_number FLOAT\n",
    "    )\n",
    "    \"\"\"\n",
    "    cursor.execute(create_table_query)\n",
    "\n",
    "    # 주문 정보 삽입 쿼리\n",
    "    insert_query = \"\"\"\n",
    "    INSERT INTO orders (coin_symbol, order_time, now_close_price, available_usdt, result_qty, tp_price, sl_price, rsi_14_number, bb_number)\n",
    "    VALUES (%s, %s, %s, %s, %s, %s, %s, %s, %s)\n",
    "    \"\"\"\n",
    "\n",
    "    # 주문 정보\n",
    "    order_data = (coin_symbol, order_time, now_close_price, available_usdt, result_qty, tp_price, sl_price, rsi_14_number, bb_number)\n",
    "\n",
    "    # 쿼리 실행\n",
    "    cursor.execute(insert_query, order_data)\n",
    "\n",
    "    # 변경사항 저장\n",
    "    conn.commit()\n",
    "\n",
    "    # 연결 종료\n",
    "    cursor.close()\n",
    "    conn.close()\n",
    "\n",
    "\n"
   ]
  },
  {
   "cell_type": "markdown",
   "metadata": {},
   "source": [
    "# TEST - 트레이딩"
   ]
  },
  {
   "cell_type": "code",
   "execution_count": 19,
   "metadata": {},
   "outputs": [
    {
     "name": "stdout",
     "output_type": "stream",
     "text": [
      "모드 : 격리\n"
     ]
    }
   ],
   "source": [
    "coin_symbol = 'MNTUSDT'\n",
    "\n",
    "# leverage 조정하기\n",
    "trading_info(key, secret, coin_symbol, 1)\n",
    "\n",
    "# while True:\n",
    "highPrice_reverse, lowPrice_reverse, closePrice_reverse = candle_mark_price(coin_symbol)\n",
    "\n",
    "rsi_14_number = rsi_indicator(closePrice_reverse, 14)\n",
    "upperband, middleband, lowerband = bb_indicator(closePrice_reverse, 20, 2, 2)\n",
    "\n",
    "now_close_price = closePrice_reverse[-1] # 값 확인하기\n",
    "\n",
    "# 롱 포지션\n",
    "if (50.1 <= rsi_14_number <= 55) and (now_close_price > middleband):\n",
    "    position_side = \"Buy\"\n",
    "\n",
    "elif (45 <= rsi_14_number <= 49.9) and (now_close_price > middleband):\n",
    "    position_side = \"Sell\"\n"
   ]
  },
  {
   "cell_type": "code",
   "execution_count": 51,
   "metadata": {},
   "outputs": [],
   "source": [
    "from pybit.unified_trading import HTTP\n",
    "\n",
    "session = HTTP(\n",
    "    # testnet=True,\n",
    "    api_key=key,\n",
    "    api_secret=secret,\n",
    ")\n",
    "\n",
    "order_session = session.place_order(\n",
    "    category=\"linear\",\n",
    "    symbol='MNTUSDT',\n",
    "    side='Buy', \n",
    "    orderType=\"Limit\",\n",
    "    qty='1', \n",
    "    timeInForce=\"GTC\", \n",
    "    isLeverage=1,\n",
    "    orderFilter=\"Order\",\n",
    "    orderLinkId = \"test15\",\n",
    "    price = '0.5',\n",
    "    \n",
    "    # TP / SL\n",
    "    takeProfit = 0.55,\n",
    "    stopLoss = 0.48,\n",
    ")"
   ]
  },
  {
   "cell_type": "code",
   "execution_count": 52,
   "metadata": {},
   "outputs": [
    {
     "data": {
      "text/plain": [
       "{'retCode': 0,\n",
       " 'retMsg': 'OK',\n",
       " 'result': {'orderId': '5a05fa17-5d54-4630-b71d-e9f1b175aa5f',\n",
       "  'orderLinkId': 'test15'},\n",
       " 'retExtInfo': {},\n",
       " 'time': 1700934444301}"
      ]
     },
     "execution_count": 52,
     "metadata": {},
     "output_type": "execute_result"
    }
   ],
   "source": [
    "order_session"
   ]
  },
  {
   "cell_type": "code",
   "execution_count": 55,
   "metadata": {},
   "outputs": [
    {
     "ename": "InvalidRequestError",
     "evalue": "Order does not exist (ErrCode: 110001) (ErrTime: 17:49:41).\nRequest → POST https://api.bybit.com/v5/order/amend: {\"category\": \"linear\", \"symbol\": \"MNTUSDT\", \"orderLinkId\": \"test15\", \"price\": \"0.51423\", \"takeProfit\": \"0.51498\", \"stopLoss\": \"0.51349\"}.",
     "output_type": "error",
     "traceback": [
      "\u001b[1;31m---------------------------------------------------------------------------\u001b[0m",
      "\u001b[1;31mInvalidRequestError\u001b[0m                       Traceback (most recent call last)",
      "\u001b[1;32mc:\\Users\\lee\\Desktop\\github\\bybit\\v3.ipynb Cell 25\u001b[0m line \u001b[0;36m7\n\u001b[0;32m      <a href='vscode-notebook-cell:/c%3A/Users/lee/Desktop/github/bybit/v3.ipynb#X40sZmlsZQ%3D%3D?line=0'>1</a>\u001b[0m \u001b[39mfrom\u001b[39;00m \u001b[39mpybit\u001b[39;00m\u001b[39m.\u001b[39;00m\u001b[39munified_trading\u001b[39;00m \u001b[39mimport\u001b[39;00m HTTP\n\u001b[0;32m      <a href='vscode-notebook-cell:/c%3A/Users/lee/Desktop/github/bybit/v3.ipynb#X40sZmlsZQ%3D%3D?line=1'>2</a>\u001b[0m session \u001b[39m=\u001b[39m HTTP(\n\u001b[0;32m      <a href='vscode-notebook-cell:/c%3A/Users/lee/Desktop/github/bybit/v3.ipynb#X40sZmlsZQ%3D%3D?line=2'>3</a>\u001b[0m     \u001b[39m# testnet=True,\u001b[39;00m\n\u001b[0;32m      <a href='vscode-notebook-cell:/c%3A/Users/lee/Desktop/github/bybit/v3.ipynb#X40sZmlsZQ%3D%3D?line=3'>4</a>\u001b[0m     api_key\u001b[39m=\u001b[39mkey,\n\u001b[0;32m      <a href='vscode-notebook-cell:/c%3A/Users/lee/Desktop/github/bybit/v3.ipynb#X40sZmlsZQ%3D%3D?line=4'>5</a>\u001b[0m     api_secret\u001b[39m=\u001b[39msecret,\n\u001b[0;32m      <a href='vscode-notebook-cell:/c%3A/Users/lee/Desktop/github/bybit/v3.ipynb#X40sZmlsZQ%3D%3D?line=5'>6</a>\u001b[0m )\n\u001b[1;32m----> <a href='vscode-notebook-cell:/c%3A/Users/lee/Desktop/github/bybit/v3.ipynb#X40sZmlsZQ%3D%3D?line=6'>7</a>\u001b[0m \u001b[39mprint\u001b[39m(session\u001b[39m.\u001b[39;49mamend_order(\n\u001b[0;32m      <a href='vscode-notebook-cell:/c%3A/Users/lee/Desktop/github/bybit/v3.ipynb#X40sZmlsZQ%3D%3D?line=7'>8</a>\u001b[0m     category\u001b[39m=\u001b[39;49m\u001b[39m\"\u001b[39;49m\u001b[39mlinear\u001b[39;49m\u001b[39m\"\u001b[39;49m,\n\u001b[0;32m      <a href='vscode-notebook-cell:/c%3A/Users/lee/Desktop/github/bybit/v3.ipynb#X40sZmlsZQ%3D%3D?line=8'>9</a>\u001b[0m     symbol\u001b[39m=\u001b[39;49m\u001b[39m\"\u001b[39;49m\u001b[39mMNTUSDT\u001b[39;49m\u001b[39m\"\u001b[39;49m,\n\u001b[0;32m     <a href='vscode-notebook-cell:/c%3A/Users/lee/Desktop/github/bybit/v3.ipynb#X40sZmlsZQ%3D%3D?line=9'>10</a>\u001b[0m     \u001b[39m# orderLinkId=\"201c7349-4a0c-4725-afe5-9ae05f557e53\",\u001b[39;49;00m\n\u001b[0;32m     <a href='vscode-notebook-cell:/c%3A/Users/lee/Desktop/github/bybit/v3.ipynb#X40sZmlsZQ%3D%3D?line=10'>11</a>\u001b[0m     orderLinkId \u001b[39m=\u001b[39;49m \u001b[39m'\u001b[39;49m\u001b[39mtest15\u001b[39;49m\u001b[39m'\u001b[39;49m,\n\u001b[0;32m     <a href='vscode-notebook-cell:/c%3A/Users/lee/Desktop/github/bybit/v3.ipynb#X40sZmlsZQ%3D%3D?line=11'>12</a>\u001b[0m     price \u001b[39m=\u001b[39;49m \u001b[39m'\u001b[39;49m\u001b[39m0.51423\u001b[39;49m\u001b[39m'\u001b[39;49m,\n\u001b[0;32m     <a href='vscode-notebook-cell:/c%3A/Users/lee/Desktop/github/bybit/v3.ipynb#X40sZmlsZQ%3D%3D?line=12'>13</a>\u001b[0m     takeProfit \u001b[39m=\u001b[39;49m \u001b[39m0.51498\u001b[39;49m,\n\u001b[0;32m     <a href='vscode-notebook-cell:/c%3A/Users/lee/Desktop/github/bybit/v3.ipynb#X40sZmlsZQ%3D%3D?line=13'>14</a>\u001b[0m     stopLoss \u001b[39m=\u001b[39;49m \u001b[39m0.51349\u001b[39;49m,\n\u001b[0;32m     <a href='vscode-notebook-cell:/c%3A/Users/lee/Desktop/github/bybit/v3.ipynb#X40sZmlsZQ%3D%3D?line=14'>15</a>\u001b[0m ))\n",
      "File \u001b[1;32mc:\\Users\\lee\\AppData\\Local\\Programs\\Python\\Python310\\lib\\site-packages\\pybit\\_v5_trade.py:42\u001b[0m, in \u001b[0;36mTradeHTTP.amend_order\u001b[1;34m(self, **kwargs)\u001b[0m\n\u001b[0;32m     28\u001b[0m \u001b[39mdef\u001b[39;00m \u001b[39mamend_order\u001b[39m(\u001b[39mself\u001b[39m, \u001b[39m*\u001b[39m\u001b[39m*\u001b[39mkwargs):\n\u001b[0;32m     29\u001b[0m \u001b[39m    \u001b[39m\u001b[39m\"\"\"Unified account covers: Linear contract / Options\u001b[39;00m\n\u001b[0;32m     30\u001b[0m \u001b[39m    Normal account covers: USDT perpetual / Inverse perpetual / Inverse futures\u001b[39;00m\n\u001b[0;32m     31\u001b[0m \n\u001b[1;32m   (...)\u001b[0m\n\u001b[0;32m     40\u001b[0m \u001b[39m        https://bybit-exchange.github.io/docs/v5/order/amend-order\u001b[39;00m\n\u001b[0;32m     41\u001b[0m \u001b[39m    \"\"\"\u001b[39;00m\n\u001b[1;32m---> 42\u001b[0m     \u001b[39mreturn\u001b[39;00m \u001b[39mself\u001b[39;49m\u001b[39m.\u001b[39;49m_submit_request(\n\u001b[0;32m     43\u001b[0m         method\u001b[39m=\u001b[39;49m\u001b[39m\"\u001b[39;49m\u001b[39mPOST\u001b[39;49m\u001b[39m\"\u001b[39;49m,\n\u001b[0;32m     44\u001b[0m         path\u001b[39m=\u001b[39;49m\u001b[39mf\u001b[39;49m\u001b[39m\"\u001b[39;49m\u001b[39m{\u001b[39;49;00m\u001b[39mself\u001b[39;49m\u001b[39m.\u001b[39;49mendpoint\u001b[39m}\u001b[39;49;00m\u001b[39m{\u001b[39;49;00mTrade\u001b[39m.\u001b[39;49mAMEND_ORDER\u001b[39m}\u001b[39;49;00m\u001b[39m\"\u001b[39;49m,\n\u001b[0;32m     45\u001b[0m         query\u001b[39m=\u001b[39;49mkwargs,\n\u001b[0;32m     46\u001b[0m         auth\u001b[39m=\u001b[39;49m\u001b[39mTrue\u001b[39;49;00m,\n\u001b[0;32m     47\u001b[0m     )\n",
      "File \u001b[1;32mc:\\Users\\lee\\AppData\\Local\\Programs\\Python\\Python310\\lib\\site-packages\\pybit\\_http_manager.py:367\u001b[0m, in \u001b[0;36m_V5HTTPManager._submit_request\u001b[1;34m(self, method, path, query, auth)\u001b[0m\n\u001b[0;32m    364\u001b[0m         \u001b[39mpass\u001b[39;00m\n\u001b[0;32m    366\u001b[0m     \u001b[39melse\u001b[39;00m:\n\u001b[1;32m--> 367\u001b[0m         \u001b[39mraise\u001b[39;00m InvalidRequestError(\n\u001b[0;32m    368\u001b[0m             request\u001b[39m=\u001b[39m\u001b[39mf\u001b[39m\u001b[39m\"\u001b[39m\u001b[39m{\u001b[39;00mmethod\u001b[39m}\u001b[39;00m\u001b[39m \u001b[39m\u001b[39m{\u001b[39;00mpath\u001b[39m}\u001b[39;00m\u001b[39m: \u001b[39m\u001b[39m{\u001b[39;00mreq_params\u001b[39m}\u001b[39;00m\u001b[39m\"\u001b[39m,\n\u001b[0;32m    369\u001b[0m             message\u001b[39m=\u001b[39ms_json[ret_msg],\n\u001b[0;32m    370\u001b[0m             status_code\u001b[39m=\u001b[39ms_json[ret_code],\n\u001b[0;32m    371\u001b[0m             time\u001b[39m=\u001b[39mdt\u001b[39m.\u001b[39mutcnow()\u001b[39m.\u001b[39mstrftime(\u001b[39m\"\u001b[39m\u001b[39m%\u001b[39m\u001b[39mH:\u001b[39m\u001b[39m%\u001b[39m\u001b[39mM:\u001b[39m\u001b[39m%\u001b[39m\u001b[39mS\u001b[39m\u001b[39m\"\u001b[39m),\n\u001b[0;32m    372\u001b[0m             resp_headers\u001b[39m=\u001b[39ms\u001b[39m.\u001b[39mheaders,\n\u001b[0;32m    373\u001b[0m         )\n\u001b[0;32m    374\u001b[0m \u001b[39melse\u001b[39;00m:\n\u001b[0;32m    375\u001b[0m     \u001b[39mif\u001b[39;00m \u001b[39mself\u001b[39m\u001b[39m.\u001b[39mlog_requests:\n",
      "\u001b[1;31mInvalidRequestError\u001b[0m: Order does not exist (ErrCode: 110001) (ErrTime: 17:49:41).\nRequest → POST https://api.bybit.com/v5/order/amend: {\"category\": \"linear\", \"symbol\": \"MNTUSDT\", \"orderLinkId\": \"test15\", \"price\": \"0.51423\", \"takeProfit\": \"0.51498\", \"stopLoss\": \"0.51349\"}."
     ]
    }
   ],
   "source": [
    "from pybit.unified_trading import HTTP\n",
    "session = HTTP(\n",
    "    # testnet=True,\n",
    "    api_key=key,\n",
    "    api_secret=secret,\n",
    ")\n",
    "print(session.amend_order(\n",
    "    category=\"linear\",\n",
    "    symbol=\"MNTUSDT\",\n",
    "    # orderLinkId=\"201c7349-4a0c-4725-afe5-9ae05f557e53\",\n",
    "    orderLinkId = 'test15',\n",
    "    price = '0.51423',\n",
    "    takeProfit = 0.51498,\n",
    "    stopLoss = 0.51349,\n",
    "))"
   ]
  },
  {
   "cell_type": "code",
   "execution_count": null,
   "metadata": {},
   "outputs": [],
   "source": []
  }
 ],
 "metadata": {
  "kernelspec": {
   "display_name": "Python 3 (ipykernel)",
   "language": "python",
   "name": "python3"
  },
  "language_info": {
   "codemirror_mode": {
    "name": "ipython",
    "version": 3
   },
   "file_extension": ".py",
   "mimetype": "text/x-python",
   "name": "python",
   "nbconvert_exporter": "python",
   "pygments_lexer": "ipython3",
   "version": "3.10.11"
  }
 },
 "nbformat": 4,
 "nbformat_minor": 4
}
