{
 "cells": [
  {
   "cell_type": "markdown",
   "metadata": {},
   "source": [
    "# IMPORT"
   ]
  },
  {
   "cell_type": "code",
   "execution_count": 1,
   "metadata": {},
   "outputs": [],
   "source": [
    "# C:\\Program Files\\Google\\Chrome\\Application\\chrome.exe --remote-debugging-port=9222 --user-data-dir=\"C:/ChromeTEMP\"\n",
    "\n",
    "from selenium import webdriver\n",
    "from selenium.webdriver.chrome.options import Options\n",
    "from selenium.webdriver.common.by import By\n",
    "\n",
    "import time\n",
    "\n",
    "import pyautogui"
   ]
  },
  {
   "cell_type": "markdown",
   "metadata": {},
   "source": [
    "# ON POSITION"
   ]
  },
  {
   "cell_type": "code",
   "execution_count": 2,
   "metadata": {},
   "outputs": [],
   "source": [
    "def on_position(rsi_7, rsi_14, rsi_21, now_position, current_time_str):\n",
    "    # long 종료\n",
    "    if now_position == 'long':\n",
    "        if rsi_7 <= rsi_14:\n",
    "            # 포지션 종료\n",
    "            time.sleep(1)\n",
    "            driver.find_element(By.XPATH, '//*[@id=\"guidance_anchor_position\"]/div/div[2]/div/div/table/tbody/tr/td[15]/div[1]/div/button[2]').click()\n",
    "            time.sleep(1)\n",
    "            driver.find_element(By.XPATH, '//*[@id=\"modal-root\"]/div/div/div[3]/button[1]').click()\n",
    "\n",
    "            print('long 포지션 종료', current_time_str)\n",
    "            time.sleep(60)\n",
    "            # 마우스 위치 리셋하기\n",
    "            pyautogui.moveTo(1003, 543)\n",
    "            return\n",
    "\n",
    "    elif now_position == 'short':\n",
    "        if rsi_7 >= rsi_14:\n",
    "            # 포지션 종료\n",
    "            time.sleep(1)\n",
    "            driver.find_element(By.XPATH, '//*[@id=\"guidance_anchor_position\"]/div/div[2]/div/div/table/tbody/tr/td[15]/div[1]/div/button[2]').click()\n",
    "            time.sleep(1)\n",
    "            driver.find_element(By.XPATH, '//*[@id=\"modal-root\"]/div/div/div[3]/button[1]').click()\n",
    "\n",
    "            print('short 포지션 종료', current_time_str)\n",
    "            time.sleep(60)\n",
    "            # 마우스 위치 리셋하기\n",
    "            pyautogui.moveTo(1003, 543)\n",
    "            return\n",
    "    \n",
    "    else:\n",
    "        return\n",
    "        "
   ]
  },
  {
   "cell_type": "markdown",
   "metadata": {},
   "source": [
    "# OFF POSITION"
   ]
  },
  {
   "cell_type": "code",
   "execution_count": 3,
   "metadata": {},
   "outputs": [],
   "source": [
    "def off_position(rsi_7, rsi_14, rsi_21, upper_band, lower_band, current_time_str):\n",
    "    # long\n",
    "    if rsi_7 > rsi_14 > rsi_21:\n",
    "        now_position = 'long'\n",
    "\n",
    "        # qty 100%\n",
    "        driver.find_element(By.XPATH, '//*[@id=\"guidance_anchor_order\"]/div/div[2]/div/div/div[2]/div[1]/div[2]/div/div[5]').click()\n",
    "        time.sleep(1)\n",
    "\n",
    "        # Buy/Long\n",
    "        driver.find_element(By.XPATH, '//*[@id=\"guidance_anchor_order\"]/div/div[2]/div/div/div[2]/div[2]/div/button[1]').click()\n",
    "        time.sleep(1)\n",
    "        driver.find_element(By.XPATH, '//*[@id=\"modal-root\"]/div/div/div[3]/div/button[1]').click()\n",
    "        time.sleep(3)\n",
    "\n",
    "        # TP/SL 설정\n",
    "        driver.find_element(By.XPATH, '/html/body/div[13]/main/div[2]/div/div[2]/div[3]/div/div/div[2]/div/div/table/tbody/tr/td[10]/div/div/button').click()\n",
    "        time.sleep(1)\n",
    "\n",
    "        # TP\n",
    "        driver.find_element(By.XPATH, '//*[@id=\"modal-root\"]/div/div/div[2]/div/div[3]/div[1]/div/div[1]/div[2]/div[1]/div/div/div/span[1]/input').click()\n",
    "        time.sleep(1)\n",
    "        driver.find_element(By.XPATH, '//*[@id=\"modal-root\"]/div/div/div[2]/div/div[3]/div[1]/div/div[1]/div[2]/div[1]/div/div/div/span[1]/input').send_keys(upper_band * 1.1)\n",
    "        time.sleep(1)\n",
    "\n",
    "        # SL\n",
    "        driver.find_element(By.XPATH, '//*[@id=\"modal-root\"]/div/div/div[2]/div/div[3]/div[2]/div/div[1]/div[2]/div[1]/div/div/div/span[1]/input').click()\n",
    "        time.sleep(1)\n",
    "        driver.find_element(By.XPATH, '//*[@id=\"modal-root\"]/div/div/div[2]/div/div[3]/div[2]/div/div[1]/div[2]/div[1]/div/div/div/span[1]/input').send_keys(lower_band)\n",
    "        time.sleep(1)\n",
    "\n",
    "        # 확인\n",
    "        driver.find_element(By.XPATH, '//*[@id=\"modal-root\"]/div/div/div[3]/button[1]').click()\n",
    "        time.sleep(1)\n",
    "        print('long 포지션 시작', current_time_str)\n",
    "\n",
    "        return now_position\n",
    "    \n",
    "    # short\n",
    "    elif rsi_7 < rsi_14 < rsi_21:\n",
    "        now_position = 'short'\n",
    "\n",
    "        # qty 100%\n",
    "        driver.find_element(By.XPATH, '//*[@id=\"guidance_anchor_order\"]/div/div[2]/div/div/div[2]/div[1]/div[2]/div/div[5]').click()\n",
    "        time.sleep(1)\n",
    "\n",
    "        # Sell/Short\n",
    "        driver.find_element(By.XPATH, '//*[@id=\"guidance_anchor_order\"]/div/div[2]/div/div/div[2]/div[2]/div/button[2]').click()\n",
    "        time.sleep(1)\n",
    "        driver.find_element(By.XPATH, '//*[@id=\"modal-root\"]/div/div/div[3]/div/button[1]').click()\n",
    "        time.sleep(3)\n",
    "        \n",
    "        # TP/SL 설정\n",
    "        driver.find_element(By.XPATH, '/html/body/div[13]/main/div[2]/div/div[2]/div[3]/div/div/div[2]/div/div/table/tbody/tr/td[10]/div/div/button').click()\n",
    "        time.sleep(1)\n",
    "\n",
    "        # TP\n",
    "        driver.find_element(By.XPATH, '//*[@id=\"modal-root\"]/div/div/div[2]/div/div[3]/div[1]/div/div[1]/div[2]/div[1]/div/div/div/span[1]/input').click()\n",
    "        time.sleep(1)\n",
    "        driver.find_element(By.XPATH, '//*[@id=\"modal-root\"]/div/div/div[2]/div/div[3]/div[1]/div/div[1]/div[2]/div[1]/div/div/div/span[1]/input').send_keys(lower_band * 0.9)\n",
    "        time.sleep(1)\n",
    "\n",
    "        # SL\n",
    "        driver.find_element(By.XPATH, '//*[@id=\"modal-root\"]/div/div/div[2]/div/div[3]/div[2]/div/div[1]/div[2]/div[1]/div/div/div/span[1]/input').click()\n",
    "        time.sleep(1)\n",
    "        driver.find_element(By.XPATH, '//*[@id=\"modal-root\"]/div/div/div[2]/div/div[3]/div[2]/div/div[1]/div[2]/div[1]/div/div/div/span[1]/input').send_keys(upper_band)\n",
    "        time.sleep(1)\n",
    "\n",
    "        # 확인\n",
    "        driver.find_element(By.XPATH, '//*[@id=\"modal-root\"]/div/div/div[3]/button[1]').click()\n",
    "        time.sleep(1)\n",
    "        print('short 포지션 시작', current_time_str)\n",
    "\n",
    "        return now_position\n",
    "    \n",
    "    else:\n",
    "        now_position = 404\n",
    "        return now_position\n"
   ]
  },
  {
   "cell_type": "markdown",
   "metadata": {},
   "source": [
    "# TRADING"
   ]
  },
  {
   "cell_type": "code",
   "execution_count": 4,
   "metadata": {},
   "outputs": [],
   "source": [
    "chrome_options = Options()\n",
    "chrome_options.add_experimental_option(\"debuggerAddress\", \"127.0.0.1:9222\")\n",
    "chrome_driver = \"C:\\Program Files\\Google\\Chrome\\Application\\chrome.exe \"\n",
    "driver = webdriver.Chrome(options=chrome_options)\n",
    "\n",
    "driver.get('https://www.bybit.com/trade/usdt/BLURUSDT')\n",
    "time.sleep(3)"
   ]
  },
  {
   "cell_type": "code",
   "execution_count": 5,
   "metadata": {},
   "outputs": [
    {
     "name": "stdout",
     "output_type": "stream",
     "text": [
      "short 포지션 시작 2023-12-01 14:55:46\n",
      "short 포지션 종료 2023-12-01 15:45:14\n",
      "short 포지션 시작 2023-12-01 15:49:44\n",
      "short 포지션 종료 2023-12-01 15:58:26\n",
      "short 포지션 시작 2023-12-01 15:58:43\n",
      "short 포지션 종료 2023-12-01 15:58:58\n",
      "long 포지션 시작 2023-12-01 16:09:18\n",
      "long 포지션 종료 2023-12-01 16:09:42\n",
      "long 포지션 시작 2023-12-01 16:09:50\n",
      "long 포지션 종료 2023-12-01 16:10:05\n",
      "long 포지션 시작 2023-12-01 16:10:12\n"
     ]
    },
    {
     "ename": "KeyboardInterrupt",
     "evalue": "",
     "output_type": "error",
     "traceback": [
      "\u001b[1;31m---------------------------------------------------------------------------\u001b[0m",
      "\u001b[1;31mNoSuchElementException\u001b[0m                    Traceback (most recent call last)",
      "\u001b[1;32mc:\\Users\\lee\\Desktop\\github\\bybit\\v5.ipynb Cell 9\u001b[0m line \u001b[0;36m3\n\u001b[0;32m     <a href='vscode-notebook-cell:/c%3A/Users/lee/Desktop/github/bybit/v5.ipynb#X11sZmlsZQ%3D%3D?line=34'>35</a>\u001b[0m \u001b[39mtry\u001b[39;00m:\n\u001b[1;32m---> <a href='vscode-notebook-cell:/c%3A/Users/lee/Desktop/github/bybit/v5.ipynb#X11sZmlsZQ%3D%3D?line=35'>36</a>\u001b[0m     driver\u001b[39m.\u001b[39;49mfind_element(By\u001b[39m.\u001b[39;49mXPATH, \u001b[39m'\u001b[39;49m\u001b[39m//*[@id=\u001b[39;49m\u001b[39m\"\u001b[39;49m\u001b[39mguidance_anchor_position\u001b[39;49m\u001b[39m\"\u001b[39;49m\u001b[39m]/div/div[2]/div/div/table/tbody/tr/td[10]/div[1]/div/div/button\u001b[39;49m\u001b[39m'\u001b[39;49m)\n\u001b[0;32m     <a href='vscode-notebook-cell:/c%3A/Users/lee/Desktop/github/bybit/v5.ipynb#X11sZmlsZQ%3D%3D?line=36'>37</a>\u001b[0m     time\u001b[39m.\u001b[39msleep(\u001b[39m1\u001b[39m)\n",
      "File \u001b[1;32mc:\\Users\\lee\\AppData\\Local\\Programs\\Python\\Python310\\lib\\site-packages\\selenium\\webdriver\\remote\\webdriver.py:741\u001b[0m, in \u001b[0;36mWebDriver.find_element\u001b[1;34m(self, by, value)\u001b[0m\n\u001b[0;32m    739\u001b[0m     value \u001b[39m=\u001b[39m \u001b[39mf\u001b[39m\u001b[39m'\u001b[39m\u001b[39m[name=\u001b[39m\u001b[39m\"\u001b[39m\u001b[39m{\u001b[39;00mvalue\u001b[39m}\u001b[39;00m\u001b[39m\"\u001b[39m\u001b[39m]\u001b[39m\u001b[39m'\u001b[39m\n\u001b[1;32m--> 741\u001b[0m \u001b[39mreturn\u001b[39;00m \u001b[39mself\u001b[39;49m\u001b[39m.\u001b[39;49mexecute(Command\u001b[39m.\u001b[39;49mFIND_ELEMENT, {\u001b[39m\"\u001b[39;49m\u001b[39musing\u001b[39;49m\u001b[39m\"\u001b[39;49m: by, \u001b[39m\"\u001b[39;49m\u001b[39mvalue\u001b[39;49m\u001b[39m\"\u001b[39;49m: value})[\u001b[39m\"\u001b[39m\u001b[39mvalue\u001b[39m\u001b[39m\"\u001b[39m]\n",
      "File \u001b[1;32mc:\\Users\\lee\\AppData\\Local\\Programs\\Python\\Python310\\lib\\site-packages\\selenium\\webdriver\\remote\\webdriver.py:347\u001b[0m, in \u001b[0;36mWebDriver.execute\u001b[1;34m(self, driver_command, params)\u001b[0m\n\u001b[0;32m    346\u001b[0m \u001b[39mif\u001b[39;00m response:\n\u001b[1;32m--> 347\u001b[0m     \u001b[39mself\u001b[39;49m\u001b[39m.\u001b[39;49merror_handler\u001b[39m.\u001b[39;49mcheck_response(response)\n\u001b[0;32m    348\u001b[0m     response[\u001b[39m\"\u001b[39m\u001b[39mvalue\u001b[39m\u001b[39m\"\u001b[39m] \u001b[39m=\u001b[39m \u001b[39mself\u001b[39m\u001b[39m.\u001b[39m_unwrap_value(response\u001b[39m.\u001b[39mget(\u001b[39m\"\u001b[39m\u001b[39mvalue\u001b[39m\u001b[39m\"\u001b[39m, \u001b[39mNone\u001b[39;00m))\n",
      "File \u001b[1;32mc:\\Users\\lee\\AppData\\Local\\Programs\\Python\\Python310\\lib\\site-packages\\selenium\\webdriver\\remote\\errorhandler.py:229\u001b[0m, in \u001b[0;36mErrorHandler.check_response\u001b[1;34m(self, response)\u001b[0m\n\u001b[0;32m    228\u001b[0m     \u001b[39mraise\u001b[39;00m exception_class(message, screen, stacktrace, alert_text)  \u001b[39m# type: ignore[call-arg]  # mypy is not smart enough here\u001b[39;00m\n\u001b[1;32m--> 229\u001b[0m \u001b[39mraise\u001b[39;00m exception_class(message, screen, stacktrace)\n",
      "\u001b[1;31mNoSuchElementException\u001b[0m: Message: no such element: Unable to locate element: {\"method\":\"xpath\",\"selector\":\"//*[@id=\"guidance_anchor_position\"]/div/div[2]/div/div/table/tbody/tr/td[10]/div[1]/div/div/button\"}\n  (Session info: chrome=119.0.6045.200); For documentation on this error, please visit: https://www.selenium.dev/documentation/webdriver/troubleshooting/errors#no-such-element-exception\nStacktrace:\n\tGetHandleVerifier [0x00007FF61BB482B2+55298]\n\t(No symbol) [0x00007FF61BAB5E02]\n\t(No symbol) [0x00007FF61B9705AB]\n\t(No symbol) [0x00007FF61B9B175C]\n\t(No symbol) [0x00007FF61B9B18DC]\n\t(No symbol) [0x00007FF61B9ECBC7]\n\t(No symbol) [0x00007FF61B9D20EF]\n\t(No symbol) [0x00007FF61B9EAAA4]\n\t(No symbol) [0x00007FF61B9D1E83]\n\t(No symbol) [0x00007FF61B9A670A]\n\t(No symbol) [0x00007FF61B9A7964]\n\tGetHandleVerifier [0x00007FF61BEC0AAB+3694587]\n\tGetHandleVerifier [0x00007FF61BF1728E+4048862]\n\tGetHandleVerifier [0x00007FF61BF0F173+4015811]\n\tGetHandleVerifier [0x00007FF61BBE47D6+695590]\n\t(No symbol) [0x00007FF61BAC0CE8]\n\t(No symbol) [0x00007FF61BABCF34]\n\t(No symbol) [0x00007FF61BABD062]\n\t(No symbol) [0x00007FF61BAAD3A3]\n\tBaseThreadInitThunk [0x00007FFF1EF37344+20]\n\tRtlUserThreadStart [0x00007FFF1FE226B1+33]\n",
      "\nDuring handling of the above exception, another exception occurred:\n",
      "\u001b[1;31mKeyboardInterrupt\u001b[0m                         Traceback (most recent call last)",
      "\u001b[1;32mc:\\Users\\lee\\Desktop\\github\\bybit\\v5.ipynb Cell 9\u001b[0m line \u001b[0;36m4\n\u001b[0;32m     <a href='vscode-notebook-cell:/c%3A/Users/lee/Desktop/github/bybit/v5.ipynb#X11sZmlsZQ%3D%3D?line=38'>39</a>\u001b[0m \u001b[39mexcept\u001b[39;00m:\n\u001b[0;32m     <a href='vscode-notebook-cell:/c%3A/Users/lee/Desktop/github/bybit/v5.ipynb#X11sZmlsZQ%3D%3D?line=39'>40</a>\u001b[0m     time\u001b[39m.\u001b[39msleep(\u001b[39m1\u001b[39m)\n\u001b[1;32m---> <a href='vscode-notebook-cell:/c%3A/Users/lee/Desktop/github/bybit/v5.ipynb#X11sZmlsZQ%3D%3D?line=40'>41</a>\u001b[0m     now_position \u001b[39m=\u001b[39m off_position(rsi_7, rsi_14, rsi_21, upper_band, lower_band, current_time_str)\n\u001b[0;32m     <a href='vscode-notebook-cell:/c%3A/Users/lee/Desktop/github/bybit/v5.ipynb#X11sZmlsZQ%3D%3D?line=41'>42</a>\u001b[0m     time\u001b[39m.\u001b[39msleep(\u001b[39m2\u001b[39m)\n",
      "\u001b[1;32mc:\\Users\\lee\\Desktop\\github\\bybit\\v5.ipynb Cell 9\u001b[0m line \u001b[0;36m1\n\u001b[0;32m     <a href='vscode-notebook-cell:/c%3A/Users/lee/Desktop/github/bybit/v5.ipynb#X11sZmlsZQ%3D%3D?line=11'>12</a>\u001b[0m time\u001b[39m.\u001b[39msleep(\u001b[39m1\u001b[39m)\n\u001b[0;32m     <a href='vscode-notebook-cell:/c%3A/Users/lee/Desktop/github/bybit/v5.ipynb#X11sZmlsZQ%3D%3D?line=12'>13</a>\u001b[0m driver\u001b[39m.\u001b[39mfind_element(By\u001b[39m.\u001b[39mXPATH, \u001b[39m'\u001b[39m\u001b[39m//*[@id=\u001b[39m\u001b[39m\"\u001b[39m\u001b[39mmodal-root\u001b[39m\u001b[39m\"\u001b[39m\u001b[39m]/div/div/div[3]/div/button[1]\u001b[39m\u001b[39m'\u001b[39m)\u001b[39m.\u001b[39mclick()\n\u001b[1;32m---> <a href='vscode-notebook-cell:/c%3A/Users/lee/Desktop/github/bybit/v5.ipynb#X11sZmlsZQ%3D%3D?line=13'>14</a>\u001b[0m time\u001b[39m.\u001b[39;49msleep(\u001b[39m3\u001b[39;49m)\n\u001b[0;32m     <a href='vscode-notebook-cell:/c%3A/Users/lee/Desktop/github/bybit/v5.ipynb#X11sZmlsZQ%3D%3D?line=15'>16</a>\u001b[0m \u001b[39m# TP/SL 설정\u001b[39;00m\n\u001b[0;32m     <a href='vscode-notebook-cell:/c%3A/Users/lee/Desktop/github/bybit/v5.ipynb#X11sZmlsZQ%3D%3D?line=16'>17</a>\u001b[0m driver\u001b[39m.\u001b[39mfind_element(By\u001b[39m.\u001b[39mXPATH, \u001b[39m'\u001b[39m\u001b[39m/html/body/div[13]/main/div[2]/div/div[2]/div[3]/div/div/div[2]/div/div/table/tbody/tr/td[10]/div/div/button\u001b[39m\u001b[39m'\u001b[39m)\u001b[39m.\u001b[39mclick()\n",
      "\u001b[1;31mKeyboardInterrupt\u001b[0m: "
     ]
    }
   ],
   "source": [
    "while True:\n",
    "\n",
    "    # 차트 프레임\n",
    "    chart_frame = driver.find_element(By.XPATH, '//*[@id=\"root\"]/main/div[2]/div/div[2]/div[1]/div/div[2]/div/div[2]/iframe')      \n",
    "    driver.switch_to.frame(chart_frame)\n",
    "\n",
    "    # rsi 7\n",
    "    rsi_7 = driver.find_element(By.XPATH, '/html/body/div[2]/div[1]/div[2]/div[1]/div[2]/table/tr[3]/td[2]/div/div[2]/div/div[2]/div[2]/div[2]/div/div[1]/div').text\n",
    "    rsi_7 = float(rsi_7)\n",
    "    # rsi 14\n",
    "    rsi_14 = driver.find_element(By.XPATH, '/html/body/div[2]/div[1]/div[2]/div[1]/div[2]/table/tr[5]/td[2]/div/div[2]/div/div[2]/div[2]/div[2]/div/div[1]/div').text\n",
    "    rsi_14 = float(rsi_14)\n",
    "\n",
    "    # rsi 21\n",
    "    rsi_21 = driver.find_element(By.XPATH, '/html/body/div[2]/div[1]/div[2]/div[1]/div[2]/table/tr[7]/td[2]/div/div[2]/div/div[2]/div[2]/div[2]/div/div[1]/div').text\n",
    "    rsi_21 = float(rsi_21)\n",
    "\n",
    "    # 상단 밴드\n",
    "    upper_band = driver.find_element(By.XPATH, '/html/body/div[2]/div[1]/div[2]/div[1]/div[2]/table/tr[1]/td[2]/div/div[2]/div[2]/div[2]/div[3]/div[2]/div/div[2]/div').text\n",
    "    upper_band = float(upper_band)\n",
    "\n",
    "    # 하단 밴드\n",
    "    lower_band = driver.find_element(By.XPATH, '/html/body/div[2]/div[1]/div[2]/div[1]/div[2]/table/tr[1]/td[2]/div/div[2]/div[2]/div[2]/div[3]/div[2]/div/div[3]/div').text\n",
    "    lower_band = float(lower_band)\n",
    "\n",
    "    # 메인 프레임\n",
    "    driver.switch_to.default_content()\n",
    "\n",
    "    # 현재 시간 정보 가져오기\n",
    "    current_time_str = time.strftime(\"%Y-%m-%d %H:%M:%S\", time.localtime())\n",
    "\n",
    "\n",
    "    try:\n",
    "        driver.find_element(By.XPATH, '//*[@id=\"guidance_anchor_position\"]/div/div[2]/div/div/table/tbody/tr/td[10]/div[1]/div/div/button')\n",
    "        time.sleep(1)\n",
    "        on_position(rsi_7, rsi_14, rsi_21, now_position, current_time_str)\n",
    "    except:\n",
    "        time.sleep(1)\n",
    "        now_position = off_position(rsi_7, rsi_14, rsi_21, upper_band, lower_band, current_time_str)\n",
    "        time.sleep(2)\n"
   ]
  }
 ],
 "metadata": {
  "kernelspec": {
   "display_name": "Python 3",
   "language": "python",
   "name": "python3"
  },
  "language_info": {
   "codemirror_mode": {
    "name": "ipython",
    "version": 3
   },
   "file_extension": ".py",
   "mimetype": "text/x-python",
   "name": "python",
   "nbconvert_exporter": "python",
   "pygments_lexer": "ipython3",
   "version": "3.10.11"
  }
 },
 "nbformat": 4,
 "nbformat_minor": 2
}
