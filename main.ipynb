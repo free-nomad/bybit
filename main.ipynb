{
 "cells": [
  {
   "cell_type": "code",
   "execution_count": 3,
   "metadata": {},
   "outputs": [],
   "source": [
    "# 파일을 읽기 모드로 열기\n",
    "with open(\"C:\\\\Users\\\\lee\\\\Desktop\\\\bybit\\\\api.txt\", \"r\") as file:\n",
    "    f = []\n",
    "    # 파일의 각 줄에 대해 반복\n",
    "    for line in file:\n",
    "        # 각 줄 출력\n",
    "        f.append(line.strip())  # strip()은 줄 바꿈 문자(\\n) 등을 제거하여 출력합니다."
   ]
  },
  {
   "cell_type": "code",
   "execution_count": 25,
   "metadata": {},
   "outputs": [
    {
     "name": "stdout",
     "output_type": "stream",
     "text": [
      "{'retCode': 0, 'retMsg': 'OK', 'result': {'symbol': 'BTCUSDT', 'category': 'linear', 'list': [['1700557680000', '37396', '37412.08', '37396', '37412.08'], ['1700557620000', '37402.4', '37403.04', '37394.8', '37396'], ['1700557560000', '37410.4', '37410.5', '37402.4', '37402.4']]}, 'retExtInfo': {}, 'time': 1700557709219}\n"
     ]
    }
   ],
   "source": [
    "from pybit.unified_trading import HTTP\n",
    "from datetime import datetime\n",
    "import math\n",
    "\n",
    "now = datetime.now()\n",
    "now_timestamp = math.floor(now.timestamp()*1000)\n",
    "\n",
    "\n",
    "session = HTTP(testnet=True)\n",
    "price = session.get_mark_price_kline(\n",
    "    category=\"linear\",\n",
    "    symbol=\"BTCUSDT\",\n",
    "    interval=1,\n",
    "    start=now_timestamp-180000,\n",
    "    end=now_timestamp,\n",
    "    limit=3,\n",
    ")\n",
    "\n",
    "now_time = price['time']\n",
    "print(price)"
   ]
  },
  {
   "cell_type": "code",
   "execution_count": 26,
   "metadata": {},
   "outputs": [
    {
     "name": "stdout",
     "output_type": "stream",
     "text": [
      "2023-11-21 09:08:00\n"
     ]
    }
   ],
   "source": [
    "from datetime import datetime\n",
    "unix_timestamp = 1700557680000 / 1000\n",
    "print(datetime.utcfromtimestamp(unix_timestamp))"
   ]
  },
  {
   "cell_type": "code",
   "execution_count": 32,
   "metadata": {},
   "outputs": [
    {
     "name": "stdout",
     "output_type": "stream",
     "text": [
      "입력 데이터: [5, 8, 9, 12, 7, 10, 15]\n",
      "평활 매개변수 (alpha): 0.25\n",
      "지수이동평균 결과: [5, 5.75, 6.5625, 7.921875, 7.69140625, 8.2685546875, 9.951416015625]\n"
     ]
    }
   ],
   "source": [
    "# EMA(Exponential Moving Average, 지수이동평균)\n",
    "\n",
    "def calculate_ema(data, alpha):\n",
    "    ema_values = [data[0]]  # 초기값은 첫 번째 데이터로 설정\n",
    "\n",
    "    for i in range(1, len(data)):\n",
    "        ema = (1 - alpha) * ema_values[-1] + alpha * data[i]\n",
    "        ema_values.append(ema)\n",
    "\n",
    "    return ema_values\n",
    "\n",
    "# 예시 데이터와 평활 매개변수 설정\n",
    "data = [5, 8, 9, 12, 7, 10, 15]\n",
    "alpha = 2 / (1 + 7)  # 7은 변수화하기\n",
    "\n",
    "# 함수 호출하여 지수이동평균 계산\n",
    "ema_result = calculate_ema(data, alpha)\n",
    "\n",
    "# 결과 출력\n",
    "print(\"입력 데이터:\", data)\n",
    "print(\"평활 매개변수 (alpha):\", alpha)\n",
    "print(\"지수이동평균 결과:\", ema_result)\n"
   ]
  },
  {
   "cell_type": "code",
   "execution_count": 33,
   "metadata": {},
   "outputs": [
    {
     "name": "stdout",
     "output_type": "stream",
     "text": [
      "주가 데이터: [55.05, 54.9, 54.91, 54.55, 54.41, 54.24, 54.76, 54.55, 54.7, 54.56]\n",
      "RSI 결과: [36.75675675675685]\n"
     ]
    }
   ],
   "source": [
    "# RSI (Relative Strength Index, 상대강도지수)\n",
    "def calculate_rsi(data, period=14):\n",
    "    # 주가의 변동 계산\n",
    "    price_diff = [data[i] - data[i - 1] for i in range(1, len(data))]\n",
    "    \n",
    "    # 상승 가격 및 하락 가격 계산\n",
    "    gain = [diff if diff > 0 else 0 for diff in price_diff]\n",
    "    loss = [abs(diff) if diff < 0 else 0 for diff in price_diff]\n",
    "    \n",
    "    # 평균 상승 가격 및 평균 하락 가격 계산\n",
    "    avg_gain = sum(gain[:period]) / period\n",
    "    avg_loss = sum(loss[:period]) / period\n",
    "    \n",
    "    # 초기 RSI 계산\n",
    "    if avg_loss == 0:\n",
    "        rs = 1  # 0으로 나누는 것을 방지하기 위해 예외 처리\n",
    "    else:\n",
    "        rs = avg_gain / avg_loss\n",
    "    \n",
    "    rsi_values = [100 - (100 / (1 + rs))]  # 초기 RSI 값\n",
    "    \n",
    "    # # 이후 RSI 계산\n",
    "    # for i in range(period, len(data)):\n",
    "    #     avg_gain = (avg_gain * (period - 1) + gain[i - 1]) / period\n",
    "    #     avg_loss = (avg_loss * (period - 1) + loss[i - 1]) / period\n",
    "        \n",
    "    #     if avg_loss == 0:\n",
    "    #         rs = 1\n",
    "    #     else:\n",
    "    #         rs = avg_gain / avg_loss\n",
    "        \n",
    "    #     rsi = 100 - (100 / (1 + rs))\n",
    "    #     rsi_values.append(rsi)\n",
    "    \n",
    "    return rsi_values\n",
    "\n",
    "# 예시 데이터 설정\n",
    "stock_prices = [55.05, 54.90, 54.91, 54.55, 54.41, 54.24, 54.76, 54.55, 54.70, 54.56]\n",
    "\n",
    "# 함수 호출하여 RSI 계산\n",
    "rsi_result = calculate_rsi(stock_prices)\n",
    "\n",
    "# 결과 출력\n",
    "print(\"주가 데이터:\", stock_prices)\n",
    "print(\"RSI 결과:\", rsi_result)\n",
    "\n"
   ]
  },
  {
   "cell_type": "code",
   "execution_count": 7,
   "metadata": {},
   "outputs": [
    {
     "name": "stdout",
     "output_type": "stream",
     "text": [
      "ADX 결과:\n",
      "0            NaN\n",
      "1     100.000000\n",
      "2     100.000000\n",
      "3     100.000000\n",
      "4     100.000000\n",
      "5     100.000000\n",
      "6      99.874183\n",
      "7      99.247954\n",
      "8      98.434075\n",
      "9      97.728713\n",
      "10     96.367708\n",
      "11     95.188171\n",
      "12     94.165905\n",
      "13     93.384471\n",
      "dtype: float64\n"
     ]
    }
   ],
   "source": [
    "# ADX (Average Directioinal Movement Index )\n",
    "\n",
    "import pandas as pd\n",
    "\n",
    "def calculate_adx(high, low, close, period=14):\n",
    "    # True Range 계산\n",
    "    tr = pd.DataFrame({\n",
    "        'hl': high - low,\n",
    "        'hpc': abs(high - close.shift(1)),\n",
    "        'lpc': abs(low - close.shift(1))\n",
    "    }).max(axis=1)\n",
    "\n",
    "    # Directional Movement Index 계산\n",
    "    plus_dm = (high - high.shift(1)).apply(lambda x: x if x > 0 else 0)\n",
    "    minus_dm = (low.shift(1) - low).apply(lambda x: x if x > 0 else 0)\n",
    "\n",
    "    # Average True Range (ATR) 계산\n",
    "    atr = tr.ewm(span=period, adjust=False).mean()\n",
    "\n",
    "    # Directional Movement Index (DX) 계산\n",
    "    plus_di = (plus_dm / atr).ewm(span=period, adjust=False).mean() * 100\n",
    "    minus_di = (minus_dm / atr).ewm(span=period, adjust=False).mean() * 100\n",
    "\n",
    "    # ADX 계산\n",
    "    dx = abs(plus_di - minus_di) / (plus_di + minus_di) * 100\n",
    "    adx = dx.ewm(span=period, adjust=False).mean()\n",
    "\n",
    "    return adx\n",
    "\n",
    "# 예시 데이터 설정\n",
    "data = {\n",
    "    'High': [37385.35, 37376.7, 37361.29, 37353.66, 37352.50, 37351.36, 37362.59, 37398.19, 37412.65, 37408.11,\n",
    "37431.65, 37431.10, 37429.15, 37418.81],\n",
    "    'Low': [37361.87, 37360.21, 37346.27, 37336.73, 37333.99, 37351.06, 37344.18, 37354.74, 37396.75, 37397.0,\n",
    "37402.44, 37411.75, 37415.41, 37392.31],\n",
    "    'Close': [37376.16, 37360.41, 37352.95, 3733.57, 37351.36, 37361.68, 37355.97, 37398.19, 37407.35, 37402.82,\n",
    "37416.33, 37428.85, 37418.81, 37394.27]\n",
    "}\n",
    "\n",
    "df = pd.DataFrame(data)\n",
    "\n",
    "# ADX 계산\n",
    "adx_result = calculate_adx(df['High'], df['Low'], df['Close'])\n",
    "\n",
    "# 결과 출력\n",
    "print(\"ADX 결과:\")\n",
    "print(adx_result)\n"
   ]
  },
  {
   "cell_type": "code",
   "execution_count": 9,
   "metadata": {},
   "outputs": [
    {
     "name": "stdout",
     "output_type": "stream",
     "text": [
      "ADX 결과:\n",
      "[0, 7.142857142857143, 13.775510204081632, 19.934402332361515, 25.653373594335694, 28.021214729972254, 26.50275535051474, 26.111536226767225, 25.748261326144533, 26.675065357736067, 27.535669101356778, 28.33480114900458, 26.94173472919004]\n"
     ]
    }
   ],
   "source": [
    "def calculate_adx(high, low, close, period=14):\n",
    "    tr = []  # True Range\n",
    "    plus_dm = []  # Plus Directional Movement\n",
    "    minus_dm = []  # Minus Directional Movement\n",
    "\n",
    "    for i in range(1, len(close)):\n",
    "        tr_value = max(high[i] - low[i], abs(high[i] - close[i - 1]), abs(low[i] - close[i - 1]))\n",
    "        tr.append(tr_value)\n",
    "\n",
    "        plus_dm_value = max(high[i] - high[i - 1], 0)\n",
    "        plus_dm.append(plus_dm_value)\n",
    "\n",
    "        minus_dm_value = max(low[i - 1] - low[i], 0)\n",
    "        minus_dm.append(minus_dm_value)\n",
    "\n",
    "    atr = [tr[0]]  # Average True Range\n",
    "    plus_di = [plus_dm[0]]  # Plus Directional Indicator\n",
    "    minus_di = [minus_dm[0]]  # Minus Directional Indicator\n",
    "\n",
    "    for i in range(1, len(tr)):\n",
    "        atr_value = ((period - 1) * atr[i - 1] + tr[i]) / period\n",
    "        atr.append(atr_value)\n",
    "\n",
    "        plus_di_value = ((period - 1) * plus_di[i - 1] + plus_dm[i]) / period\n",
    "        plus_di.append(plus_di_value)\n",
    "\n",
    "        minus_di_value = ((period - 1) * minus_di[i - 1] + minus_dm[i]) / period\n",
    "        minus_di.append(minus_di_value)\n",
    "\n",
    "    dx = [0]  # Directional Movement Index\n",
    "    adx = [0]  # Average Directional Index\n",
    "\n",
    "    for i in range(1, len(tr)):\n",
    "        if plus_di[i] + minus_di[i] == 0:\n",
    "            dx_value = 0\n",
    "        else:\n",
    "            dx_value = (abs(plus_di[i] - minus_di[i]) / (plus_di[i] + minus_di[i])) * 100\n",
    "\n",
    "        dx.append(dx_value)\n",
    "\n",
    "        adx_value = ((period - 1) * adx[i - 1] + dx[i]) / period\n",
    "        adx.append(adx_value)\n",
    "\n",
    "    return adx\n",
    "\n",
    "# 예시 데이터 설정\n",
    "high = [37385.35, 37376.7, 37361.29, 37353.66, 37352.50, 37351.36, 37362.59, 37398.19, 37412.65, 37408.11,\n",
    "37431.65, 37431.10, 37429.15, 37418.81]\n",
    "low = [37361.87, 37360.21, 37346.27, 37336.73, 37333.99, 37351.06, 37344.18, 37354.74, 37396.75, 37397.0,\n",
    "37402.44, 37411.75, 37415.41, 37392.31]\n",
    "close = [37376.16, 37360.41, 37352.95, 3733.57, 37351.36, 37361.68, 37355.97, 37398.19, 37407.35, 37402.82,\n",
    "37416.33, 37428.85, 37418.81, 37394.27]\n",
    "\n",
    "# ADX 계산\n",
    "adx_result = calculate_adx(high, low, close)\n",
    "\n",
    "# 결과 출력\n",
    "print(\"ADX 결과:\")\n",
    "print(adx_result)\n"
   ]
  },
  {
   "cell_type": "code",
   "execution_count": null,
   "metadata": {},
   "outputs": [],
   "source": [
    "    'High': ,\n",
    "    'Low': [,\n",
    "    'Close': "
   ]
  }
 ],
 "metadata": {
  "kernelspec": {
   "display_name": "Python 3 (ipykernel)",
   "language": "python",
   "name": "python3"
  },
  "language_info": {
   "codemirror_mode": {
    "name": "ipython",
    "version": 3
   },
   "file_extension": ".py",
   "mimetype": "text/x-python",
   "name": "python",
   "nbconvert_exporter": "python",
   "pygments_lexer": "ipython3",
   "version": "3.11.4"
  }
 },
 "nbformat": 4,
 "nbformat_minor": 5
}
